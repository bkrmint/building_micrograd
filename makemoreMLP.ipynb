{
 "cells": [
  {
   "cell_type": "code",
   "execution_count": 2,
   "metadata": {},
   "outputs": [],
   "source": [
    "import torch\n",
    "import torch.nn.functional as F\n",
    "import matplotlib.pyplot as plt\n",
    "%matplotlib inline"
   ]
  },
  {
   "cell_type": "code",
   "execution_count": 3,
   "metadata": {},
   "outputs": [
    {
     "data": {
      "text/plain": [
       "['emma', 'olivia', 'ava', 'isabella', 'sophia', 'charlotte', 'mia', 'amelia']"
      ]
     },
     "execution_count": 3,
     "metadata": {},
     "output_type": "execute_result"
    }
   ],
   "source": [
    "words = open('names.txt', 'r').read().splitlines()\n",
    "words[:8]"
   ]
  },
  {
   "cell_type": "code",
   "execution_count": 4,
   "metadata": {},
   "outputs": [
    {
     "data": {
      "text/plain": [
       "32033"
      ]
     },
     "execution_count": 4,
     "metadata": {},
     "output_type": "execute_result"
    }
   ],
   "source": [
    "len(words)"
   ]
  },
  {
   "cell_type": "code",
   "execution_count": 5,
   "metadata": {},
   "outputs": [
    {
     "name": "stdout",
     "output_type": "stream",
     "text": [
      "{1: 'a', 2: 'b', 3: 'c', 4: 'd', 5: 'e', 6: 'f', 7: 'g', 8: 'h', 9: 'i', 10: 'j', 11: 'k', 12: 'l', 13: 'm', 14: 'n', 15: 'o', 16: 'p', 17: 'q', 18: 'r', 19: 's', 20: 't', 21: 'u', 22: 'v', 23: 'w', 24: 'x', 25: 'y', 26: 'z', 0: '.'}\n"
     ]
    }
   ],
   "source": [
    "# build the vocabulary of characters and mappings to/from integers\n",
    "chars = sorted(list(set(''.join(words))))\n",
    "stoi = {c: i+1 for i , c in enumerate(chars)}\n",
    "stoi ['.'] = 0\n",
    "itos = {i: c for c , i in stoi.items()}\n",
    "print (itos)"
   ]
  },
  {
   "cell_type": "code",
   "execution_count": 6,
   "metadata": {},
   "outputs": [
    {
     "name": "stdout",
     "output_type": "stream",
     "text": [
      "emma\n",
      "... -> e\n",
      "..e -> m\n",
      ".em -> m\n",
      "emm -> a\n",
      "mma -> .\n",
      "olivia\n",
      "... -> o\n",
      "..o -> l\n",
      ".ol -> i\n",
      "oli -> v\n",
      "liv -> i\n",
      "ivi -> a\n",
      "via -> .\n",
      "ava\n",
      "... -> a\n",
      "..a -> v\n",
      ".av -> a\n",
      "ava -> .\n",
      "isabella\n",
      "... -> i\n",
      "..i -> s\n",
      ".is -> a\n",
      "isa -> b\n",
      "sab -> e\n",
      "abe -> l\n",
      "bel -> l\n",
      "ell -> a\n",
      "lla -> .\n",
      "sophia\n",
      "... -> s\n",
      "..s -> o\n",
      ".so -> p\n",
      "sop -> h\n",
      "oph -> i\n",
      "phi -> a\n",
      "hia -> .\n"
     ]
    }
   ],
   "source": [
    "# build the dataset \n",
    "\n",
    "block_size = 3 # context length: how many characters do we take to predict the next one?\n",
    "X, Y = [], []\n",
    "for w in words[:5]: \n",
    "\n",
    "    print (w)\n",
    "    context = [0] * block_size # context window [0, 0, 0]\n",
    "    for ch in w + '.': \n",
    "        ix = stoi[ch]\n",
    "        #print (ch, ix)\n",
    "        X.append(context)\n",
    "        Y.append(ix)\n",
    "        print ( ''.join(itos[i] for i in context), '->', itos[ix])\n",
    "        context = context[1:] + [ix] # add new char in the end and removes the first one\n",
    "X = torch.tensor(X) # X has trigram contexts\n",
    "Y = torch.tensor(Y) # Y has index of each character that the trigram corresponds to. For example for first letter e, trigram is [0, 0, 0] and Y[0] = 5; for second letter e, trigram is [0, 0, 5] and Y[1] = 5; "
   ]
  },
  {
   "cell_type": "code",
   "execution_count": 7,
   "metadata": {},
   "outputs": [
    {
     "data": {
      "text/plain": [
       "(torch.Size([32, 3]), torch.int64, torch.Size([32]), torch.int64)"
      ]
     },
     "execution_count": 7,
     "metadata": {},
     "output_type": "execute_result"
    }
   ],
   "source": [
    "X.shape, X.dtype, Y.shape, Y.dtype"
   ]
  },
  {
   "cell_type": "code",
   "execution_count": 8,
   "metadata": {},
   "outputs": [],
   "source": [
    "# In previous makemore the way we coded the neural net is by:\n",
    "# 1. defining the weights N  into a matrix W \n",
    "# 2. Then, multiplied the weights by the input - one-hot vector which will give the connected output neurons\n",
    "# 3. Instead of doing this.. We can directly use the embedding layer into C matrix by including the list trigrams X features (2) and add this list in C matrix\n",
    "# 4. In pytorch emb = C[X] will give the same result as emb = W[X] in makemore"
   ]
  },
  {
   "cell_type": "code",
   "execution_count": 9,
   "metadata": {},
   "outputs": [],
   "source": [
    "C = torch.randn(27,2)\n"
   ]
  },
  {
   "cell_type": "code",
   "execution_count": 10,
   "metadata": {},
   "outputs": [
    {
     "data": {
      "text/plain": [
       "torch.Size([32, 3, 2])"
      ]
     },
     "execution_count": 10,
     "metadata": {},
     "output_type": "execute_result"
    }
   ],
   "source": [
    "emb = C[X] # embedding layer\n",
    "emb.shape"
   ]
  },
  {
   "cell_type": "code",
   "execution_count": 11,
   "metadata": {},
   "outputs": [],
   "source": [
    "w1 = torch.randn(6, 100) # 3 * 2 = 6 (inputs) and 100 is the number of neurons in the hidden layer\n",
    "b1 = torch.randn(100) # biases for each neuron \n"
   ]
  },
  {
   "cell_type": "code",
   "execution_count": 12,
   "metadata": {},
   "outputs": [
    {
     "ename": "RuntimeError",
     "evalue": "mat1 and mat2 shapes cannot be multiplied (96x2 and 6x100)",
     "output_type": "error",
     "traceback": [
      "\u001b[1;31m---------------------------------------------------------------------------\u001b[0m",
      "\u001b[1;31mRuntimeError\u001b[0m                              Traceback (most recent call last)",
      "\u001b[1;32m~\\AppData\\Local\\Temp\\ipykernel_11744\\2383373345.py\u001b[0m in \u001b[0;36m<module>\u001b[1;34m\u001b[0m\n\u001b[1;32m----> 1\u001b[1;33m \u001b[0memb\u001b[0m \u001b[1;33m@\u001b[0m \u001b[0mw1\u001b[0m \u001b[1;33m+\u001b[0m \u001b[0mb1\u001b[0m \u001b[1;31m#  how do we do this?  - This will not work emb is 32 x 3 x 2 and w1 is 6 x 100. We need to reshape emb to 32 x 6 and then do the multiplication\u001b[0m\u001b[1;33m\u001b[0m\u001b[1;33m\u001b[0m\u001b[0m\n\u001b[0m",
      "\u001b[1;31mRuntimeError\u001b[0m: mat1 and mat2 shapes cannot be multiplied (96x2 and 6x100)"
     ]
    }
   ],
   "source": [
    "emb @ w1 + b1 #  how do we do this?  - This will not work emb is 32 x 3 x 2 and w1 is 6 x 100. We need to reshape emb to 32 x 6 and then do the multiplication"
   ]
  },
  {
   "cell_type": "code",
   "execution_count": null,
   "metadata": {},
   "outputs": [
    {
     "data": {
      "text/plain": [
       "torch.Size([32, 6])"
      ]
     },
     "execution_count": 14,
     "metadata": {},
     "output_type": "execute_result"
    }
   ],
   "source": [
    "# one approach is the torch.cat \n",
    "torch.cat([emb[:,0,:], emb[:,1,:], emb[:,2,:]], dim=1).shape\n",
    "# we are concatenating across dimension not 0, or 2. So 3 x 2 will become [ [a, 1] [b, 2] [c, 3] ] -> [a, 1, b, 2, c, 3]\n",
    "\n",
    "# this would not scale, if we change our block_size to 4, we would need to change the code above to 4 x 2. So we can use torch.unbind"
   ]
  },
  {
   "cell_type": "code",
   "execution_count": null,
   "metadata": {},
   "outputs": [
    {
     "data": {
      "text/plain": [
       "torch.Size([32, 6])"
      ]
     },
     "execution_count": 17,
     "metadata": {},
     "output_type": "execute_result"
    }
   ],
   "source": [
    "torch.unbind(emb, dim=1) # unbind will give us a list of tensors, each tensor is 32 x 2\n",
    "torch.cat(torch.unbind(emb, dim=1), dim=1).shape"
   ]
  },
  {
   "cell_type": "code",
   "execution_count": null,
   "metadata": {},
   "outputs": [],
   "source": [
    "a = torch.arange(18)"
   ]
  },
  {
   "cell_type": "code",
   "execution_count": null,
   "metadata": {},
   "outputs": [
    {
     "data": {
      "text/plain": [
       "tensor([[[ 0,  1,  2],\n",
       "         [ 3,  4,  5]],\n",
       "\n",
       "        [[ 6,  7,  8],\n",
       "         [ 9, 10, 11]],\n",
       "\n",
       "        [[12, 13, 14],\n",
       "         [15, 16, 17]]])"
      ]
     },
     "execution_count": 23,
     "metadata": {},
     "output_type": "execute_result"
    }
   ],
   "source": [
    "# we can reshape this single dimension into as many dimensions as we want as long as the total number of elements is the same =\n",
    "# 18 = 3 x 2 x 3\n",
    "# 18 = 9 x 2\n",
    "\n",
    "a.view(3,2,3) # 3 x 2 x 3 = 18"
   ]
  },
  {
   "cell_type": "code",
   "execution_count": null,
   "metadata": {},
   "outputs": [
    {
     "data": {
      "text/plain": [
       " 0\n",
       " 1\n",
       " 2\n",
       " 3\n",
       " 4\n",
       " 5\n",
       " 6\n",
       " 7\n",
       " 8\n",
       " 9\n",
       " 10\n",
       " 11\n",
       " 12\n",
       " 13\n",
       " 14\n",
       " 15\n",
       " 16\n",
       " 17\n",
       "[torch.storage.TypedStorage(dtype=torch.int64, device=cpu) of size 18]"
      ]
     },
     "execution_count": 24,
     "metadata": {},
     "output_type": "execute_result"
    }
   ],
   "source": [
    "a.storage() # this is the underlying storage of the tensor"
   ]
  },
  {
   "cell_type": "code",
   "execution_count": null,
   "metadata": {},
   "outputs": [
    {
     "data": {
      "text/plain": [
       "torch.Size([32, 3, 2])"
      ]
     },
     "execution_count": 25,
     "metadata": {},
     "output_type": "execute_result"
    }
   ],
   "source": [
    "emb.shape"
   ]
  },
  {
   "cell_type": "code",
   "execution_count": null,
   "metadata": {},
   "outputs": [
    {
     "data": {
      "text/plain": [
       "tensor([[True, True, True, True, True, True],\n",
       "        [True, True, True, True, True, True],\n",
       "        [True, True, True, True, True, True],\n",
       "        [True, True, True, True, True, True],\n",
       "        [True, True, True, True, True, True],\n",
       "        [True, True, True, True, True, True],\n",
       "        [True, True, True, True, True, True],\n",
       "        [True, True, True, True, True, True],\n",
       "        [True, True, True, True, True, True],\n",
       "        [True, True, True, True, True, True],\n",
       "        [True, True, True, True, True, True],\n",
       "        [True, True, True, True, True, True],\n",
       "        [True, True, True, True, True, True],\n",
       "        [True, True, True, True, True, True],\n",
       "        [True, True, True, True, True, True],\n",
       "        [True, True, True, True, True, True],\n",
       "        [True, True, True, True, True, True],\n",
       "        [True, True, True, True, True, True],\n",
       "        [True, True, True, True, True, True],\n",
       "        [True, True, True, True, True, True],\n",
       "        [True, True, True, True, True, True],\n",
       "        [True, True, True, True, True, True],\n",
       "        [True, True, True, True, True, True],\n",
       "        [True, True, True, True, True, True],\n",
       "        [True, True, True, True, True, True],\n",
       "        [True, True, True, True, True, True],\n",
       "        [True, True, True, True, True, True],\n",
       "        [True, True, True, True, True, True],\n",
       "        [True, True, True, True, True, True],\n",
       "        [True, True, True, True, True, True],\n",
       "        [True, True, True, True, True, True],\n",
       "        [True, True, True, True, True, True]])"
      ]
     },
     "execution_count": 28,
     "metadata": {},
     "output_type": "execute_result"
    }
   ],
   "source": [
    "emb.view(32, 6) # 32 x 3 x 2 = 32 x 6\n",
    "emb.view(32, 6) == torch.cat(torch.unbind(emb, dim=1), dim=1) # both are same."
   ]
  },
  {
   "cell_type": "code",
   "execution_count": null,
   "metadata": {},
   "outputs": [
    {
     "data": {
      "text/plain": [
       "tensor([[ 3.3002, -2.0831,  1.8616,  ...,  0.1475,  1.7895,  1.5449],\n",
       "        [-0.6571, -3.2786,  2.7076,  ..., -1.3623,  2.2175, -0.6975],\n",
       "        [-1.4589, -0.6408,  0.2801,  ...,  0.5147,  2.9043,  2.2049],\n",
       "        ...,\n",
       "        [ 4.1920, -0.8238,  3.2839,  ..., -2.6398, -1.6159,  1.8420],\n",
       "        [-0.0802, -3.7357,  1.8953,  ..., -0.5957,  4.0570,  0.2833],\n",
       "        [ 0.4761, -0.4648,  1.5817,  ...,  0.3626,  2.1255,  2.1941]])"
      ]
     },
     "execution_count": 29,
     "metadata": {},
     "output_type": "execute_result"
    }
   ],
   "source": [
    "# now we can do the multiplication with the weights\n",
    "h = emb.view(32, 6) @ w1 + b1\n",
    "# instead of hardcoding the 32, we can use -1 or [0] to infer the size of the dimension\n",
    "h = emb.view(-1, 6) @ w1 + b1 # 32 x 6 @ 6 x 100 + 100 = 32 x 100; It will infer the size of the dimension from w1"
   ]
  },
  {
   "cell_type": "code",
   "execution_count": null,
   "metadata": {},
   "outputs": [],
   "source": [
    "h = "
   ]
  },
  {
   "cell_type": "code",
   "execution_count": null,
   "metadata": {},
   "outputs": [],
   "source": [
    "# C is the lookup table for the embedding layer. In the paper they have taken 17,000 words and brought it down to 30 dimensions. Here we have 27 characters and we have brought it down to 2 dimensions. 2 dimensions because we are predicting next character. In the paper they have 30 dimensions because they are predicting the next word they are narrowing down the 30 words that are most likely to follow the current 3 word set. \n",
    "C = torch.randn((27,2))"
   ]
  },
  {
   "cell_type": "code",
   "execution_count": null,
   "metadata": {},
   "outputs": [
    {
     "data": {
      "text/plain": [
       "tensor([ 1.1050, -0.5499])"
      ]
     },
     "execution_count": 38,
     "metadata": {},
     "output_type": "execute_result"
    }
   ],
   "source": [
    "C[5]"
   ]
  },
  {
   "cell_type": "code",
   "execution_count": null,
   "metadata": {},
   "outputs": [
    {
     "data": {
      "text/plain": [
       "tensor([[0, 0, 0, 0, 0, 1, 0, 0, 0, 0, 0, 0, 0, 0, 0, 0, 0, 0, 0, 0, 0, 0, 0, 0,\n",
       "         0, 0, 0]])"
      ]
     },
     "execution_count": 32,
     "metadata": {},
     "output_type": "execute_result"
    }
   ],
   "source": [
    "F.one_hot(torch.tensor([5]), num_classes=27)"
   ]
  },
  {
   "cell_type": "code",
   "execution_count": null,
   "metadata": {},
   "outputs": [
    {
     "data": {
      "text/plain": [
       "tensor([[-0.0217, -0.3261]])"
      ]
     },
     "execution_count": 33,
     "metadata": {},
     "output_type": "execute_result"
    }
   ],
   "source": [
    "F.one_hot(torch.tensor([5]), num_classes=27).float() @ C\n",
    "# this is the same as C[5]; we arrived at this by doing one-hot encoding of 5 and then multiplying it by C\n",
    "# Since bother are same, we can treat this as layer of the neural network will equal distribution "
   ]
  },
  {
   "cell_type": "code",
   "execution_count": null,
   "metadata": {},
   "outputs": [],
   "source": []
  },
  {
   "cell_type": "code",
   "execution_count": null,
   "metadata": {},
   "outputs": [
    {
     "data": {
      "text/plain": [
       "tensor([[ 1.1050, -0.5499],\n",
       "        [ 0.8862, -1.7515],\n",
       "        [ 0.5974,  1.5236]])"
      ]
     },
     "execution_count": 39,
     "metadata": {},
     "output_type": "execute_result"
    }
   ],
   "source": [
    "C[[5, 10, 15]] # we can index with a list of indices"
   ]
  },
  {
   "cell_type": "code",
   "execution_count": null,
   "metadata": {},
   "outputs": [
    {
     "data": {
      "text/plain": [
       "tensor([[ 1.1050, -0.5499],\n",
       "        [-0.0225,  0.4510],\n",
       "        [-0.6372,  0.8603],\n",
       "        [-0.6372,  0.8603],\n",
       "        [-0.6372,  0.8603],\n",
       "        [-0.6372,  0.8603]])"
      ]
     },
     "execution_count": 40,
     "metadata": {},
     "output_type": "execute_result"
    }
   ],
   "source": [
    "C[torch.tensor([5,6,7,7,7,7])] # we can index with a tensor of indices"
   ]
  },
  {
   "cell_type": "code",
   "execution_count": null,
   "metadata": {},
   "outputs": [
    {
     "data": {
      "text/plain": [
       "torch.Size([32, 3, 2])"
      ]
     },
     "execution_count": 41,
     "metadata": {},
     "output_type": "execute_result"
    }
   ],
   "source": [
    "C[X] # we can do multi-dimensional indexing \n",
    "C[X].shape"
   ]
  },
  {
   "cell_type": "code",
   "execution_count": null,
   "metadata": {},
   "outputs": [
    {
     "data": {
      "text/plain": [
       "tensor(1)"
      ]
     },
     "execution_count": 46,
     "metadata": {},
     "output_type": "execute_result"
    }
   ],
   "source": [
    "X[13,2]\n"
   ]
  },
  {
   "cell_type": "code",
   "execution_count": null,
   "metadata": {},
   "outputs": [
    {
     "data": {
      "text/plain": [
       "tensor([0.6771, 1.5519])"
      ]
     },
     "execution_count": 49,
     "metadata": {},
     "output_type": "execute_result"
    }
   ],
   "source": [
    "C[X][13,2] "
   ]
  },
  {
   "cell_type": "code",
   "execution_count": null,
   "metadata": {},
   "outputs": [
    {
     "data": {
      "text/plain": [
       "tensor([1.8223, 0.8383])"
      ]
     },
     "execution_count": 50,
     "metadata": {},
     "output_type": "execute_result"
    }
   ],
   "source": [
    "C[2]"
   ]
  },
  {
   "cell_type": "code",
   "execution_count": null,
   "metadata": {},
   "outputs": [
    {
     "data": {
      "text/plain": [
       "tensor([[ 0,  0,  0],\n",
       "        [ 0,  0,  5],\n",
       "        [ 0,  5, 13],\n",
       "        [ 5, 13, 13],\n",
       "        [13, 13,  1],\n",
       "        [ 0,  0,  0],\n",
       "        [ 0,  0, 15],\n",
       "        [ 0, 15, 12],\n",
       "        [15, 12,  9],\n",
       "        [12,  9, 22],\n",
       "        [ 9, 22,  9],\n",
       "        [22,  9,  1],\n",
       "        [ 0,  0,  0],\n",
       "        [ 0,  0,  1],\n",
       "        [ 0,  1, 22],\n",
       "        [ 1, 22,  1],\n",
       "        [ 0,  0,  0],\n",
       "        [ 0,  0,  9],\n",
       "        [ 0,  9, 19],\n",
       "        [ 9, 19,  1],\n",
       "        [19,  1,  2],\n",
       "        [ 1,  2,  5],\n",
       "        [ 2,  5, 12],\n",
       "        [ 5, 12, 12],\n",
       "        [12, 12,  1],\n",
       "        [ 0,  0,  0],\n",
       "        [ 0,  0, 19],\n",
       "        [ 0, 19, 15],\n",
       "        [19, 15, 16],\n",
       "        [15, 16,  8],\n",
       "        [16,  8,  9],\n",
       "        [ 8,  9,  1]])"
      ]
     },
     "execution_count": 34,
     "metadata": {},
     "output_type": "execute_result"
    }
   ],
   "source": [
    "X"
   ]
  },
  {
   "cell_type": "code",
   "execution_count": null,
   "metadata": {},
   "outputs": [
    {
     "data": {
      "text/plain": [
       "tensor([ 5, 13, 13,  1,  0, 15, 12,  9, 22,  9,  1,  0,  1, 22,  1,  0,  9, 19,\n",
       "         1,  2,  5, 12, 12,  1,  0, 19, 15, 16,  8,  9,  1,  0])"
      ]
     },
     "execution_count": 35,
     "metadata": {},
     "output_type": "execute_result"
    }
   ],
   "source": [
    "Y"
   ]
  },
  {
   "cell_type": "code",
   "execution_count": null,
   "metadata": {},
   "outputs": [
    {
     "name": "stdout",
     "output_type": "stream",
     "text": [
      "emma.\n"
     ]
    }
   ],
   "source": [
    "context = [0] * 3\n",
    "context = context[1:] + ['c']\n",
    "context = context[1:] + ['d']\n",
    "context\n",
    "print ( 'emma' + '.')"
   ]
  },
  {
   "cell_type": "code",
   "execution_count": null,
   "metadata": {},
   "outputs": [
    {
     "data": {
      "text/plain": [
       "(torch.Size([32, 3]), torch.int64, torch.Size([32]), torch.int64)"
      ]
     },
     "execution_count": 30,
     "metadata": {},
     "output_type": "execute_result"
    }
   ],
   "source": [
    "# Lets catch up where we left off\n",
    "# We have created the windows of context and the next character\n",
    "# We have created the embedding layer\n",
    "X.shape, X.dtype, Y.shape, Y.dtype\n",
    "# X has trigram contexts, Y has index of character that is most likely to follow the trigram"
   ]
  },
  {
   "cell_type": "code",
   "execution_count": null,
   "metadata": {},
   "outputs": [
    {
     "data": {
      "text/plain": [
       "torch.Size([32, 3, 2])"
      ]
     },
     "execution_count": 31,
     "metadata": {},
     "output_type": "execute_result"
    }
   ],
   "source": [
    "# We X and Y to create the embedding layer. We have to encode the X and Y into the bigram tabular format to calculate the probabilities. That means we have to create a bigram table with the counts of each bigram and the counts of each character following the bigram, which we have. To convert the X and Y into the bigram table, into nueral net we have to change this input from characters to one-hot encoded matrix. \n",
    "#[One-hot-encoding]*[Bigram table [C]]*[Weights & Biases] * [Neurons] = [Output] \n",
    "C = torch.randn(27,2) # 27 characters and 2 features (x,y)\n",
    "emb = C[X] # embedding layer # shortcut to one-hot encoding, both are same which will be for X = 32 X 3 and Y = 32 X 1 \n",
    "emb.shape"
   ]
  },
  {
   "cell_type": "code",
   "execution_count": null,
   "metadata": {},
   "outputs": [],
   "source": [
    "W1 = torch.randn(6, 100) # 3 * 2 = 6 (inputs) and 100 is the number of neurons in the hidden layer\n",
    "b1 = torch.randn(100) # biases for each neuron\n",
    "h = torch.tanh(emb.view(-1, 6) @ W1 + b1) # 32 x 6 @ 6 x 100 + 100 = 32 x 100; It will infer the size of the dimension from w1"
   ]
  },
  {
   "cell_type": "code",
   "execution_count": null,
   "metadata": {},
   "outputs": [
    {
     "data": {
      "text/plain": [
       "torch.Size([32, 100])"
      ]
     },
     "execution_count": 36,
     "metadata": {},
     "output_type": "execute_result"
    }
   ],
   "source": [
    "h.shape"
   ]
  },
  {
   "cell_type": "code",
   "execution_count": null,
   "metadata": {},
   "outputs": [],
   "source": [
    "# final layer\n",
    "W2 = torch.randn(100, 27) # 100 neurons in the hidden layer and 27 characters in the output layer\n",
    "b2 = torch.randn(27) # biases for each output \n",
    "logits = h @ W2 + b2 # 32 x 100 @ 100 x 27 + 27 = 32 x 27"
   ]
  },
  {
   "cell_type": "code",
   "execution_count": null,
   "metadata": {},
   "outputs": [
    {
     "data": {
      "text/plain": [
       "torch.Size([32, 27])"
      ]
     },
     "execution_count": 40,
     "metadata": {},
     "output_type": "execute_result"
    }
   ],
   "source": [
    "logits.shape"
   ]
  },
  {
   "cell_type": "code",
   "execution_count": null,
   "metadata": {},
   "outputs": [],
   "source": [
    "counts = logits.exp()"
   ]
  },
  {
   "cell_type": "code",
   "execution_count": null,
   "metadata": {},
   "outputs": [],
   "source": [
    "probs = counts / counts.sum(dim=1, keepdim=True)"
   ]
  },
  {
   "cell_type": "code",
   "execution_count": null,
   "metadata": {},
   "outputs": [
    {
     "data": {
      "text/plain": [
       "torch.Size([32, 27])"
      ]
     },
     "execution_count": 44,
     "metadata": {},
     "output_type": "execute_result"
    }
   ],
   "source": [
    "probs.shape # 32 x 27"
   ]
  },
  {
   "cell_type": "code",
   "execution_count": null,
   "metadata": {},
   "outputs": [
    {
     "data": {
      "text/plain": [
       "tensor(1.)"
      ]
     },
     "execution_count": 46,
     "metadata": {},
     "output_type": "execute_result"
    }
   ],
   "source": [
    "probs \n",
    "probs[0].sum()  # sum of all the probabilities for the first row is 1.0"
   ]
  },
  {
   "cell_type": "code",
   "execution_count": null,
   "metadata": {},
   "outputs": [
    {
     "data": {
      "text/plain": [
       "tensor([ 5, 13, 13,  1,  0, 15, 12,  9, 22,  9,  1,  0,  1, 22,  1,  0,  9, 19,\n",
       "         1,  2,  5, 12, 12,  1,  0, 19, 15, 16,  8,  9,  1,  0])"
      ]
     },
     "execution_count": 47,
     "metadata": {},
     "output_type": "execute_result"
    }
   ],
   "source": [
    "Y"
   ]
  },
  {
   "cell_type": "code",
   "execution_count": null,
   "metadata": {},
   "outputs": [
    {
     "data": {
      "text/plain": [
       "tensor([ 0,  1,  2,  3,  4,  5,  6,  7,  8,  9, 10, 11, 12, 13, 14, 15, 16, 17,\n",
       "        18, 19, 20, 21, 22, 23, 24, 25, 26, 27, 28, 29, 30, 31])"
      ]
     },
     "execution_count": 48,
     "metadata": {},
     "output_type": "execute_result"
    }
   ],
   "source": [
    "torch.arange(32)"
   ]
  },
  {
   "cell_type": "code",
   "execution_count": null,
   "metadata": {},
   "outputs": [
    {
     "data": {
      "text/plain": [
       "tensor([9.4657e-06, 4.5898e-10, 2.1366e-13, 2.2602e-12, 3.5437e-08, 2.1004e-13,\n",
       "        3.2891e-09, 1.9053e-09, 1.0786e-10, 1.0676e-09, 1.8501e-06, 1.5990e-05,\n",
       "        1.2806e-10, 8.3255e-05, 6.3522e-07, 2.1952e-13, 2.1241e-09, 3.3647e-14,\n",
       "        5.3736e-10, 5.7035e-11, 1.4315e-01, 2.0259e-06, 9.5675e-08, 1.4356e-11,\n",
       "        5.0784e-03, 6.0848e-14, 3.8850e-14, 6.8603e-08, 1.4114e-06, 2.3526e-16,\n",
       "        5.8034e-08, 2.1077e-05])"
      ]
     },
     "execution_count": 51,
     "metadata": {},
     "output_type": "execute_result"
    }
   ],
   "source": [
    "probs[torch.arange(32), Y] # this will give us the probability of the character that is most likely to follow the trigram\n"
   ]
  },
  {
   "cell_type": "code",
   "execution_count": null,
   "metadata": {},
   "outputs": [
    {
     "data": {
      "text/plain": [
       "tensor(19.7044)"
      ]
     },
     "execution_count": 53,
     "metadata": {},
     "output_type": "execute_result"
    }
   ],
   "source": [
    "loss = -probs[torch.arange(32), Y].log().mean() # negative log likelihood loss\n",
    "loss"
   ]
  },
  {
   "cell_type": "code",
   "execution_count": null,
   "metadata": {},
   "outputs": [
    {
     "data": {
      "text/plain": [
       "(torch.Size([32, 3]), torch.Size([32]))"
      ]
     },
     "execution_count": 54,
     "metadata": {},
     "output_type": "execute_result"
    }
   ],
   "source": [
    "# building a respectable code\n",
    "X.shape, Y.shape # input dataset "
   ]
  },
  {
   "cell_type": "code",
   "execution_count": null,
   "metadata": {},
   "outputs": [],
   "source": [
    "g = torch.Generator().manual_seed(2147483627) # setting the seed for reproducibility 2147483647\n",
    "C = torch.randn(27,2, generator=g) # 27 characters and 2 features (x,y)\n",
    "W1 = torch.randn(6, 100, generator=g) # 3 * 2 = 6 (inputs) and 100 is the number of neurons in the hidden layer\n",
    "b1 = torch.randn(100, generator=g) # biases for each neuron\n",
    "W2 = torch.randn(100, 27, generator=g) # 100 neurons in the hidden layer and 27 characters in the output layer\n",
    "b2 = torch.randn(27, generator=g) # biases for each output\n",
    "paramaters = [C, W1, b1, W2, b2]"
   ]
  },
  {
   "cell_type": "code",
   "execution_count": null,
   "metadata": {},
   "outputs": [
    {
     "data": {
      "text/plain": [
       "3481"
      ]
     },
     "execution_count": 57,
     "metadata": {},
     "output_type": "execute_result"
    }
   ],
   "source": [
    "sum(p.nelement() for p in paramaters) # total number of elements in the paramaters"
   ]
  },
  {
   "cell_type": "code",
   "execution_count": null,
   "metadata": {},
   "outputs": [
    {
     "data": {
      "text/plain": [
       "tensor(20.2924)"
      ]
     },
     "execution_count": 60,
     "metadata": {},
     "output_type": "execute_result"
    }
   ],
   "source": [
    "# forward pass\n",
    "emb = C[X] # embedding layer # shortcut to one-hot encoding, both are same which will be for X = 32 X 3 and Y = 32 X 1\n",
    "h = torch.tanh(emb.view(-1, 6) @ W1 + b1) # 32 x 6 @ 6 x 100 + 100 = 32 x 100; It will infer the size of the dimension from w1 \n",
    "# hidden layer\n",
    "logits = h @ W2 + b2 # 32 x 100 @ 100 x 27 + 27 = 32 x 27\n",
    "# counts = logits.exp() # fake counts\n",
    "# probs = counts / counts.sum(dim=1, keepdim=True)\n",
    "# loss = -probs[torch.arange(32), Y].log().mean() # negative log likelihood loss \n",
    "F.cross_entropy(logits, Y) # this is the same as the loss function we have created above\n",
    "loss\n"
   ]
  },
  {
   "cell_type": "code",
   "execution_count": null,
   "metadata": {},
   "outputs": [
    {
     "data": {
      "text/plain": [
       "tensor([0., 0., 0., nan])"
      ]
     },
     "execution_count": 62,
     "metadata": {},
     "output_type": "execute_result"
    }
   ],
   "source": [
    "# We will never use the above code in practice. We will use the below code. F.cross_entropy. \n",
    "# 1. It is more efficient, we will using few variables and less memory, \n",
    "# 2. Backward pass is efficient \n",
    "# 3. exp() is not numerically stable, it can cause overflow.\n",
    "\n",
    "logits = torch.tensor([-100, 3, 0, 100]).float()\n",
    "counts = logits.exp() # cannot pass large numbers to exp()\n",
    "probs = counts / counts.sum()\n",
    "probs"
   ]
  },
  {
   "cell_type": "code",
   "execution_count": null,
   "metadata": {},
   "outputs": [
    {
     "data": {
      "text/plain": [
       "tensor([3.7835e-44, 2.0086e+01, 1.0000e+00,        inf])"
      ]
     },
     "execution_count": 63,
     "metadata": {},
     "output_type": "execute_result"
    }
   ],
   "source": [
    "counts"
   ]
  },
  {
   "cell_type": "code",
   "execution_count": null,
   "metadata": {},
   "outputs": [
    {
     "data": {
      "text/plain": [
       "tensor([0.0000e+00, 7.4689e-43, 3.7835e-44, 1.0000e+00])"
      ]
     },
     "execution_count": 64,
     "metadata": {},
     "output_type": "execute_result"
    }
   ],
   "source": [
    "# The way pytorch handles the overflow is by subtracting the max value from the logits. probs will remain the same if we increment the logits by a constant value.\n",
    "logits = torch.tensor([-100, 3, 0, 100]).float() - 100\n",
    "counts = logits.exp() # cannot pass large numbers to exp()\n",
    "probs = counts / counts.sum()\n",
    "probs"
   ]
  },
  {
   "cell_type": "code",
   "execution_count": null,
   "metadata": {},
   "outputs": [
    {
     "data": {
      "text/plain": [
       "tensor([4.5079e-05, 3.3309e-04, 6.6903e-03, 9.9293e-01])"
      ]
     },
     "execution_count": 65,
     "metadata": {},
     "output_type": "execute_result"
    }
   ],
   "source": [
    "# Another example with reasonable numbers\n",
    "logits = torch.tensor([-5, -3, 0, 5]).float()\n",
    "counts = logits.exp() # cannot pass large numbers to exp()\n",
    "probs = counts / counts.sum()\n",
    "probs"
   ]
  },
  {
   "cell_type": "code",
   "execution_count": null,
   "metadata": {},
   "outputs": [
    {
     "data": {
      "text/plain": [
       "tensor([4.5079e-05, 3.3309e-04, 6.6903e-03, 9.9293e-01])"
      ]
     },
     "execution_count": 66,
     "metadata": {},
     "output_type": "execute_result"
    }
   ],
   "source": [
    "# Another example with reasonable numbers\n",
    "logits = torch.tensor([-5, -3, 0, 5]).float() - 5 # subtracting the max value from the logits\n",
    "counts = logits.exp() # cannot pass large numbers to exp()\n",
    "probs = counts / counts.sum()\n",
    "probs # the probabilities are still the same"
   ]
  },
  {
   "cell_type": "code",
   "execution_count": 15,
   "metadata": {},
   "outputs": [
    {
     "data": {
      "text/plain": [
       "(torch.Size([32, 3]), torch.Size([32]))"
      ]
     },
     "execution_count": 15,
     "metadata": {},
     "output_type": "execute_result"
    }
   ],
   "source": [
    "# building a respectable code\n",
    "X.shape, Y.shape # input dataset "
   ]
  },
  {
   "cell_type": "code",
   "execution_count": 16,
   "metadata": {},
   "outputs": [],
   "source": [
    "g = torch.Generator().manual_seed(2147483627) # setting the seed for reproducibility 2147483647\n",
    "C = torch.randn(27,2, generator=g) # 27 characters and 2 features (x,y)\n",
    "W1 = torch.randn(6, 100, generator=g) # 3 * 2 = 6 (inputs) and 100 is the number of neurons in the hidden layer\n",
    "b1 = torch.randn(100, generator=g) # biases for each neuron\n",
    "W2 = torch.randn(100, 27, generator=g) # 100 neurons in the hidden layer and 27 characters in the output layer\n",
    "b2 = torch.randn(27, generator=g) # biases for each output\n",
    "paramaters = [C, W1, b1, W2, b2]"
   ]
  },
  {
   "cell_type": "code",
   "execution_count": 17,
   "metadata": {},
   "outputs": [
    {
     "data": {
      "text/plain": [
       "3481"
      ]
     },
     "execution_count": 17,
     "metadata": {},
     "output_type": "execute_result"
    }
   ],
   "source": [
    "sum(p.nelement() for p in paramaters) # total number of elements in the paramaters"
   ]
  },
  {
   "cell_type": "code",
   "execution_count": 18,
   "metadata": {},
   "outputs": [],
   "source": [
    "for p in paramaters:\n",
    "    p.requires_grad = True # this will tell pytorch to track the gradients"
   ]
  },
  {
   "cell_type": "code",
   "execution_count": 19,
   "metadata": {},
   "outputs": [
    {
     "name": "stdout",
     "output_type": "stream",
     "text": [
      "0.2579222619533539\n"
     ]
    }
   ],
   "source": [
    "for _ in range(500): \n",
    "  # forward pass\n",
    "  emb = C[X] # embedding layer # shortcut to one-hot encoding, both are same which will be for X = 32 X 3 and Y = 32 X 1\n",
    "  h = torch.tanh(emb.view(-1, 6) @ W1 + b1) # 32 x 6 @ 6 x 100 + 100 = 32 x 100; It will infer the size of the dimension from w1 \n",
    "  # hidden layer\n",
    "  logits = h @ W2 + b2 # 32 x 100 @ 100 x 27 + 27 = 32 x 27\n",
    "  loss = F.cross_entropy(logits, Y) # this is the same as the loss function we have created above\n",
    "  #print(loss.item())\n",
    "\n",
    "  # backward pass\n",
    "  for p in paramaters:\n",
    "    p.grad = None # setting the gradients to zero\n",
    "  loss.backward() # backward pass\n",
    "  # updating the weights\n",
    "  for p in paramaters:\n",
    "    p.data += -0.1 * p.grad # nudge each node / parameters \n",
    "\n",
    "print(loss.item())"
   ]
  },
  {
   "cell_type": "code",
   "execution_count": 20,
   "metadata": {},
   "outputs": [
    {
     "data": {
      "text/plain": [
       "torch.return_types.max(\n",
       "values=tensor([ 9.0951, 15.4322, 13.9784, 17.2188, 16.6477,  9.0951, 13.2286, 17.4210,\n",
       "        14.5849, 16.1423, 16.2970, 24.8248,  9.0951, 17.0673, 13.6615, 18.9756,\n",
       "         9.0951, 16.2110, 13.9742, 14.9278, 11.7628, 11.4640, 15.1078, 13.9516,\n",
       "        17.3901,  9.0951, 15.7966, 15.9562, 14.1629, 17.0921, 19.3946, 20.5674],\n",
       "       grad_fn=<MaxBackward0>),\n",
       "indices=tensor([15, 13, 13,  1,  0, 15, 12,  9, 22,  9,  1,  0, 15, 22,  1,  0, 15, 19,\n",
       "         1,  2,  5, 12, 12,  1,  0, 15, 15, 16,  8,  9,  1,  0]))"
      ]
     },
     "execution_count": 20,
     "metadata": {},
     "output_type": "execute_result"
    }
   ],
   "source": [
    "logits.max(1)"
   ]
  },
  {
   "cell_type": "code",
   "execution_count": null,
   "metadata": {},
   "outputs": [
    {
     "data": {
      "text/plain": [
       "tensor([ 5, 13, 13,  1,  0, 15, 12,  9, 22,  9,  1,  0,  1, 22,  1,  0,  9, 19,\n",
       "         1,  2,  5, 12, 12,  1,  0, 19, 15, 16,  8,  9,  1,  0])"
      ]
     },
     "execution_count": 77,
     "metadata": {},
     "output_type": "execute_result"
    }
   ],
   "source": [
    "Y"
   ]
  },
  {
   "cell_type": "code",
   "execution_count": null,
   "metadata": {},
   "outputs": [],
   "source": [
    "# We are overfitting for the data. The loss is not decreasing.. but goes close to zero. And for every ... bigram we have different weights. Let go will whole data and see what happens."
   ]
  },
  {
   "cell_type": "code",
   "execution_count": 21,
   "metadata": {},
   "outputs": [],
   "source": [
    "# build the dataset \n",
    "\n",
    "block_size = 3 # context length: how many characters do we take to predict the next one?\n",
    "X, Y = [], []\n",
    "for w in words: \n",
    "\n",
    "    #print (w)\n",
    "    context = [0] * block_size # context window [0, 0, 0]\n",
    "    for ch in w + '.': \n",
    "        ix = stoi[ch]\n",
    "        #print (ch, ix)\n",
    "        X.append(context)\n",
    "        Y.append(ix)\n",
    "        #print ( ''.join(itos[i] for i in context), '->', itos[ix])\n",
    "        context = context[1:] + [ix] # add new char in the end and removes the first one\n",
    "X = torch.tensor(X) # X has trigram contexts\n",
    "Y = torch.tensor(Y) # Y has index of each character that the trigram corresponds to. For example for first letter e, trigram is [0, 0, 0] and Y[0] = 5; for second letter e, trigram is [0, 0, 5] and Y[1] = 5;"
   ]
  },
  {
   "cell_type": "code",
   "execution_count": 22,
   "metadata": {},
   "outputs": [
    {
     "data": {
      "text/plain": [
       "(torch.Size([228146, 3]), torch.int64, torch.Size([228146]), torch.int64)"
      ]
     },
     "execution_count": 22,
     "metadata": {},
     "output_type": "execute_result"
    }
   ],
   "source": [
    "X.shape, X.dtype, Y.shape, Y.dtype # input dataset"
   ]
  },
  {
   "cell_type": "code",
   "execution_count": 23,
   "metadata": {},
   "outputs": [],
   "source": [
    "g = torch.Generator().manual_seed(2147483627) # setting the seed for reproducibility 2147483647\n",
    "C = torch.randn(27,2, generator=g) # 27 characters and 2 features (x,y)\n",
    "W1 = torch.randn(6, 100, generator=g) # 3 * 2 = 6 (inputs) and 100 is the number of neurons in the hidden layer\n",
    "b1 = torch.randn(100, generator=g) # biases for each neuron\n",
    "W2 = torch.randn(100, 27, generator=g) # 100 neurons in the hidden layer and 27 characters in the output layer\n",
    "b2 = torch.randn(27, generator=g) # biases for each output\n",
    "paramaters = [C, W1, b1, W2, b2]"
   ]
  },
  {
   "cell_type": "code",
   "execution_count": 24,
   "metadata": {},
   "outputs": [
    {
     "data": {
      "text/plain": [
       "3481"
      ]
     },
     "execution_count": 24,
     "metadata": {},
     "output_type": "execute_result"
    }
   ],
   "source": [
    "sum(p.nelement() for p in paramaters) # total number of elements in the paramaters"
   ]
  },
  {
   "cell_type": "code",
   "execution_count": 25,
   "metadata": {},
   "outputs": [],
   "source": [
    "for p in paramaters:\n",
    "    p.requires_grad = True # this will tell pytorch to track the gradients"
   ]
  },
  {
   "cell_type": "code",
   "execution_count": 26,
   "metadata": {},
   "outputs": [],
   "source": [
    "# Idenitfy the range in which the loss is decreasing and then follow this exponential procedure\n",
    "torch.linspace (0.001, 1, 1000) # 1000 numbers between 0.1 and 1\n",
    "# steping thru 1000 does make sense \n",
    "lre = torch.linspace (-3, 0, 1000) \n",
    "lrs = 10 ** lre # 1000 numbers between 10**-3 = 0.001 and 10**0 = 1"
   ]
  },
  {
   "cell_type": "code",
   "execution_count": 36,
   "metadata": {},
   "outputs": [
    {
     "name": "stdout",
     "output_type": "stream",
     "text": [
      "Final loss 2.2408952713012695\n"
     ]
    }
   ],
   "source": [
    "lri = []\n",
    "lossi = []\n",
    "\n",
    "for i in range(1000): \n",
    "\n",
    "  # minibatch construct \n",
    "  ix = torch.randint(0, X.shape[0], (32,)) # 32 random indices\n",
    "  # forward pass\n",
    "  emb = C[X[ix]] # embedding layer # shortcut to one-hot encoding, both are same which will be for X = 228146 X 3 and Y = 32 X 1; bringing the minibatch size to 32 from 228146\n",
    "  h = torch.tanh(emb.view(-1, 6) @ W1 + b1) # 228146 x 6 @ 6 x 100 + 100 = 32 x 100; It will infer the size of the dimension from w1 \n",
    "  # hidden layer\n",
    "  logits = h @ W2 + b2 # 228146 x 100 @ 100 x 27 + 27 = 228146 x 27\n",
    "  loss = F.cross_entropy(logits, Y[ix]) # this is the same as the loss function we have created above\n",
    "  #print(loss.item())\n",
    "\n",
    "  # backward pass\n",
    "  for p in paramaters:\n",
    "    p.grad = None # setting the gradients to zero\n",
    "  loss.backward() # backward pass\n",
    "\n",
    "  # updating the weights\n",
    "  #lr = lrs[i] # learning rate\n",
    "  # we found the learning rate that works for us around 0.1 and use that rate for the rest of the training\n",
    "  #lr = 0.1\n",
    "  # then run learning rate decay..\n",
    "  lr = 0.01\n",
    "  for p in paramaters:\n",
    "    p.data += -lr * p.grad # nudge each node / parameters \n",
    "\n",
    "  # track stats\n",
    "  #lri.append(lre)\n",
    "  #lossi.append(loss.item())\n",
    "\n",
    "print(\"Final loss\", loss.item())"
   ]
  },
  {
   "cell_type": "code",
   "execution_count": 31,
   "metadata": {},
   "outputs": [],
   "source": [
    "import os\n",
    "os.environ['KMP_DUPLICATE_LIB_OK'] = 'True'"
   ]
  },
  {
   "cell_type": "code",
   "execution_count": 33,
   "metadata": {},
   "outputs": [
    {
     "data": {
      "text/plain": [
       "[<matplotlib.lines.Line2D at 0x1da15e73988>]"
      ]
     },
     "execution_count": 33,
     "metadata": {},
     "output_type": "execute_result"
    },
    {
     "data": {
      "image/png": "[encoded data removed]",
      "text/plain": [
       "<Figure size 640x480 with 1 Axes>"
      ]
     },
     "metadata": {},
     "output_type": "display_data"
    }
   ],
   "source": [
    "import matplotlib.pyplot as plt\n",
    "plt.plot (lre, lossi)\n"
   ]
  },
  {
   "cell_type": "code",
   "execution_count": 37,
   "metadata": {},
   "outputs": [
    {
     "data": {
      "text/plain": [
       "tensor(2.4185, grad_fn=<NllLossBackward0>)"
      ]
     },
     "execution_count": 37,
     "metadata": {},
     "output_type": "execute_result"
    }
   ],
   "source": [
    "# Let us estimate complete loss for the whole dataset to get idea of how well we are doing\n",
    "emb = C[X]\n",
    "h = torch.tanh(emb.view(-1, 6) @ W1 + b1)\n",
    "logits = h @ W2 + b2\n",
    "loss = F.cross_entropy(logits, Y)\n",
    "loss "
   ]
  },
  {
   "cell_type": "code",
   "execution_count": null,
   "metadata": {},
   "outputs": [
    {
     "data": {
      "text/plain": [
       "tensor([186936,  72032,  46495,  76549,   2463, 131520, 110722,  39913,  97799,\n",
       "        111178, 204998, 220002,  70787, 218589,  49515, 100082,  23185,  96536,\n",
       "           825, 219741,  13886, 225536,  78746, 165931,   5315,  34969,  82335,\n",
       "          5123, 170826, 176070,  97160, 215837])"
      ]
     },
     "execution_count": 95,
     "metadata": {},
     "output_type": "execute_result"
    }
   ],
   "source": [
    "torch.randint (0, X.shape[0], (32,))"
   ]
  },
  {
   "cell_type": "code",
   "execution_count": null,
   "metadata": {},
   "outputs": [
    {
     "data": {
      "text/plain": [
       "3"
      ]
     },
     "execution_count": 94,
     "metadata": {},
     "output_type": "execute_result"
    }
   ],
   "source": [
    "X.shape[1]"
   ]
  },
  {
   "cell_type": "code",
   "execution_count": null,
   "metadata": {},
   "outputs": [],
   "source": [
    "# Training split - 80% of the data\n",
    "# Validation split - 10% of the data - To tune the hyperparameters\n",
    "# Test split - 10% of the data"
   ]
  },
  {
   "cell_type": "code",
   "execution_count": 40,
   "metadata": {},
   "outputs": [
    {
     "name": "stdout",
     "output_type": "stream",
     "text": [
      "torch.Size([182546, 3]) torch.Size([182546])\n",
      "torch.Size([22840, 3]) torch.Size([22840])\n",
      "torch.Size([22760, 3]) torch.Size([22760])\n"
     ]
    }
   ],
   "source": [
    "# build the dataset for training, validation and test\n",
    "\n",
    "def build_dataset(words):\n",
    "    block_size = 3 \n",
    "    X, Y = [], []\n",
    "    for w in words: \n",
    "\n",
    "        #print (w)\n",
    "        context = [0] * block_size # context window [0, 0, 0]\n",
    "        for ch in w + '.': \n",
    "            ix = stoi[ch]\n",
    "            #print (ch, ix)\n",
    "            X.append(context)\n",
    "            Y.append(ix)\n",
    "            #print ( ''.join(itos[i] for i in context), '->', itos[ix])\n",
    "            context = context[1:] + [ix] # add new char in the end and removes the first one\n",
    "\n",
    "    X = torch.tensor(X) # X has trigram contexts\n",
    "    Y = torch.tensor(Y) # Y has index of each character that the trigram corresponds to. For example for first letter e, trigram is [0, 0, 0] and Y[0] = 5; for second letter e, trigram is [0, 0, 5] and Y[1] = 5;\n",
    "    print (X.shape, Y.shape)\n",
    "    return X, Y\n",
    "\n",
    "import random\n",
    "random.seed(2147483647)\n",
    "random.shuffle(words)\n",
    "n1 = int(0.8 * len(words))\n",
    "n2 = int(0.9 * len(words))\n",
    "\n",
    "Xtr, Ytr = build_dataset(words[:n1])\n",
    "Xdev, Ydev = build_dataset(words[n1:n2])\n",
    "Xts, Yts = build_dataset(words[n2:])"
   ]
  },
  {
   "cell_type": "code",
   "execution_count": 41,
   "metadata": {},
   "outputs": [
    {
     "data": {
      "text/plain": [
       "25626"
      ]
     },
     "execution_count": 41,
     "metadata": {},
     "output_type": "execute_result"
    }
   ],
   "source": [
    "len(words)\n",
    "n1"
   ]
  },
  {
   "cell_type": "code",
   "execution_count": 42,
   "metadata": {},
   "outputs": [
    {
     "data": {
      "text/plain": [
       "28829"
      ]
     },
     "execution_count": 42,
     "metadata": {},
     "output_type": "execute_result"
    }
   ],
   "source": [
    "n2"
   ]
  },
  {
   "cell_type": "code",
   "execution_count": 43,
   "metadata": {},
   "outputs": [
    {
     "data": {
      "text/plain": [
       "3203"
      ]
     },
     "execution_count": 43,
     "metadata": {},
     "output_type": "execute_result"
    }
   ],
   "source": [
    "n2-n1"
   ]
  },
  {
   "cell_type": "code",
   "execution_count": 44,
   "metadata": {},
   "outputs": [
    {
     "data": {
      "text/plain": [
       "3204"
      ]
     },
     "execution_count": 44,
     "metadata": {},
     "output_type": "execute_result"
    }
   ],
   "source": [
    "len(words)-n2"
   ]
  },
  {
   "cell_type": "code",
   "execution_count": 53,
   "metadata": {},
   "outputs": [
    {
     "data": {
      "text/plain": [
       "(torch.Size([182546, 3]), torch.int64, torch.Size([182546]), torch.int64)"
      ]
     },
     "execution_count": 53,
     "metadata": {},
     "output_type": "execute_result"
    }
   ],
   "source": [
    "Xtr.shape, Xtr.dtype, Ytr.shape, Ytr.dtype # input dataset"
   ]
  },
  {
   "cell_type": "code",
   "execution_count": 81,
   "metadata": {},
   "outputs": [],
   "source": [
    "g = torch.Generator().manual_seed(2147483627) # setting the seed for reproducibility 2147483647\n",
    "C = torch.randn(27,10, generator=g) # 27 characters and 2 features (x,y)  # increasing the number of features to 10\n",
    "W1 = torch.randn(30, 200, generator=g) # 3 * 2 = 6 (inputs) and 100 is the number of neurons in the hidden layer # 3 * 10 = 30 (inputs) and 200 is the number of neurons in the hidden layer\n",
    "b1 = torch.randn(200, generator=g) # biases for each neuron\n",
    "W2 = torch.randn(200, 27, generator=g) # 100 neurons in the hidden layer and 27 characters in the output layer # 200 neurons in the hidden layer and 27 characters in the output layer\n",
    "b2 = torch.randn(27, generator=g) # biases for each output\n",
    "paramaters = [C, W1, b1, W2, b2]"
   ]
  },
  {
   "cell_type": "code",
   "execution_count": 82,
   "metadata": {},
   "outputs": [
    {
     "data": {
      "text/plain": [
       "11897"
      ]
     },
     "execution_count": 82,
     "metadata": {},
     "output_type": "execute_result"
    }
   ],
   "source": [
    "sum(p.nelement() for p in paramaters) # total number of elements in the paramaters"
   ]
  },
  {
   "cell_type": "code",
   "execution_count": 83,
   "metadata": {},
   "outputs": [],
   "source": [
    "for p in paramaters:\n",
    "    p.requires_grad = True # this will tell pytorch to track the gradients"
   ]
  },
  {
   "cell_type": "code",
   "execution_count": 84,
   "metadata": {},
   "outputs": [],
   "source": [
    "# Idenitfy the range in which the loss is decreasing and then follow this exponential procedure\n",
    "torch.linspace (0.001, 1, 1000) # 1000 numbers between 0.1 and 1\n",
    "# steping thru 1000 does make sense \n",
    "lre = torch.linspace (-3, 0, 1000) \n",
    "lrs = 10 ** lre # 1000 numbers between 10**-3 = 0.001 and 10**0 = 1"
   ]
  },
  {
   "cell_type": "code",
   "execution_count": 94,
   "metadata": {},
   "outputs": [],
   "source": [
    "lri = []\n",
    "lossi = []\n",
    "stepi = []"
   ]
  },
  {
   "cell_type": "code",
   "execution_count": 100,
   "metadata": {},
   "outputs": [
    {
     "name": "stdout",
     "output_type": "stream",
     "text": [
      "Final loss 2.1757376194000244\n"
     ]
    }
   ],
   "source": [
    "\n",
    "for i in range(20000): \n",
    "\n",
    "  # minibatch construct \n",
    "  ix = torch.randint(0, Xtr.shape[0], (32,)) # 32 random indices\n",
    "  # forward pass\n",
    "  emb = C[Xtr[ix]] # embedding layer # shortcut to one-hot encoding, both are same which will be for X = 228146 X 3 and Y = 32 X 1; bringing the minibatch size to 32 from 228146\n",
    "  h = torch.tanh(emb.view(-1, 30) @ W1 + b1) # 228146 x 6 @ 6 x 100 + 100 = 32 x 100; It will infer the size of the dimension from w1 \n",
    "  # hidden layer\n",
    "  logits = h @ W2 + b2 # 228146 x 100 @ 100 x 27 + 27 = 228146 x 27\n",
    "  loss = F.cross_entropy(logits, Ytr[ix]) # this is the same as the loss function we have created above\n",
    "  #print(loss.item())\n",
    "\n",
    "  # backward pass\n",
    "  for p in paramaters:\n",
    "    p.grad = None # setting the gradients to zero\n",
    "  loss.backward() # backward pass\n",
    "\n",
    "  # updating the weights\n",
    "  #lr = lrs[i] # learning rate\n",
    "  # we found the learning rate that works for us around 0.1 and use that rate for the rest of the training\n",
    "  #lr = 0.1\n",
    "  # then run learning rate decay..\n",
    "  lr = 0.1\n",
    "  for p in paramaters:\n",
    "    p.data += -lr * p.grad # nudge each node / parameters \n",
    "\n",
    "  # track stats\n",
    "  stepi.append(i)\n",
    "  lri.append(lre)\n",
    "  lossi.append(loss.log10().item()) # log10 of the loss function, To avoid hockey stick graph and to get a smooth curve\n",
    "\n",
    "print(\"Final loss\", loss.item())"
   ]
  },
  {
   "cell_type": "code",
   "execution_count": 101,
   "metadata": {},
   "outputs": [
    {
     "data": {
      "text/plain": [
       "(40000, 40000)"
      ]
     },
     "execution_count": 101,
     "metadata": {},
     "output_type": "execute_result"
    }
   ],
   "source": [
    "len(stepi), len(lossi)"
   ]
  },
  {
   "cell_type": "code",
   "execution_count": 102,
   "metadata": {},
   "outputs": [
    {
     "data": {
      "text/plain": [
       "[<matplotlib.lines.Line2D at 0x1da4117abc8>]"
      ]
     },
     "execution_count": 102,
     "metadata": {},
     "output_type": "execute_result"
    },
    {
     "data": {
      "image/png": "[encoded data removed]",
      "text/plain": [
       "<Figure size 640x480 with 1 Axes>"
      ]
     },
     "metadata": {},
     "output_type": "display_data"
    }
   ],
   "source": [
    "plt.plot (stepi, lossi)"
   ]
  },
  {
   "cell_type": "code",
   "execution_count": 103,
   "metadata": {},
   "outputs": [
    {
     "data": {
      "text/plain": [
       "tensor(2.3749, grad_fn=<NllLossBackward0>)"
      ]
     },
     "execution_count": 103,
     "metadata": {},
     "output_type": "execute_result"
    }
   ],
   "source": [
    "# Over all loss for the training set\n",
    "emb = C[Xtr]\n",
    "h = torch.tanh(emb.view(-1, 30) @ W1 + b1)\n",
    "logits = h @ W2 + b2\n",
    "loss = F.cross_entropy(logits, Ytr)\n",
    "loss "
   ]
  },
  {
   "cell_type": "code",
   "execution_count": 104,
   "metadata": {},
   "outputs": [
    {
     "data": {
      "text/plain": [
       "tensor(2.4187, grad_fn=<NllLossBackward0>)"
      ]
     },
     "execution_count": 104,
     "metadata": {},
     "output_type": "execute_result"
    }
   ],
   "source": [
    "# Dev set\n",
    "emb = C[Xdev]\n",
    "h = torch.tanh(emb.view(-1, 30) @ W1 + b1)\n",
    "logits = h @ W2 + b2\n",
    "loss = F.cross_entropy(logits, Ydev)\n",
    "loss \n",
    "# Overall loss on the training set is 2.5158 and on the dev set is 2.5221. Training data did not see this new dev data, so we can say that the model is not overfitting.But we underfitting. That means the network is not complex enough to capture the patterns in the data. We can increase the number of neurons in the hidden layer and see if that helps. Let us increase the number of neurons to 300 and see if that helps."
   ]
  },
  {
   "cell_type": "code",
   "execution_count": 76,
   "metadata": {},
   "outputs": [
    {
     "data": {
      "image/png": "[encoded data removed]",
      "text/plain": [
       "<Figure size 500x500 with 1 Axes>"
      ]
     },
     "metadata": {},
     "output_type": "display_data"
    }
   ],
   "source": [
    "plt.figure(figsize=(5,5))\n",
    "plt.scatter(C[:,0].data, C[:,1].data, s=200)\n",
    "for i in range(C.shape[0]):\n",
    "    plt.text(C[i,0].item(), C[i,1].item(), itos[i], ha=\"center\", va=\"center\", color='white' )\n",
    "plt.grid('minor')"
   ]
  },
  {
   "cell_type": "code",
   "execution_count": null,
   "metadata": {},
   "outputs": [],
   "source": [
    "# There is grouping of chars. a, e, i, o, u are grouped togather... '.' is seperate group. Other likely and unlikely chars are also grouped togather. This is a good sign that the network is learning something. But we are unfitted.. since we see training loss and dev loss are close to each other. We can increase the feature vectors and play around with nuerons. "
   ]
  },
  {
   "cell_type": "code",
   "execution_count": 80,
   "metadata": {},
   "outputs": [
    {
     "data": {
      "text/plain": [
       "2"
      ]
     },
     "execution_count": 80,
     "metadata": {},
     "output_type": "execute_result"
    }
   ],
   "source": [
    "C.shape[1]"
   ]
  },
  {
   "cell_type": "code",
   "execution_count": 110,
   "metadata": {},
   "outputs": [
    {
     "name": "stdout",
     "output_type": "stream",
     "text": [
      "axhidki.\n",
      "maha.\n",
      "aura.\n",
      "lora.\n",
      "mani.\n",
      "rar.\n",
      "sarivran.\n",
      "liuira.\n",
      "jaiva.\n",
      "aveirloy.\n",
      "anny.\n",
      "irasra.\n",
      "btolyn.\n",
      "mavilsan.\n",
      "gar.\n",
      "brysely.\n",
      "vaani.\n",
      "aventley.\n",
      "raviausairotta.\n",
      "arlia.\n"
     ]
    }
   ],
   "source": [
    "# how to sample from the model\n",
    "g = torch.Generator().manual_seed(2147483647 * 9)\n",
    "\n",
    "for _ in range(20):\n",
    "\n",
    "    out = []\n",
    "    context = [0] * block_size # initialize will all '...' chars\n",
    "    while True:\n",
    "        emb = C[torch.tensor([context])] # (1, block_size=3 ) \n",
    "        h = torch.tanh(emb.view(1, -1) @ W1 + b1) # (1, block_size, #) @ (#, 100) + (100,) = (1, 100)\n",
    "        logits = h @ W2 + b2 # (1, 100) @ (100, 27) + (27,) = (1, 27)\n",
    "        probs = F.softmax(logits, dim=1) # (1, 27)\n",
    "        ix = torch.multinomial(probs, num_samples=1, generator=g).item() # (1, 1)\n",
    "        context = context[1:] + [ix] # (3, ) + (1, ) = (3, )\n",
    "        out.append(ix)\n",
    "        if ix == 0:\n",
    "            break\n",
    "    \n",
    "    print(\"\".join(itos[i] for i in out))\n"
   ]
  }
 ],
 "metadata": {
  "kernelspec": {
   "display_name": "base",
   "language": "python",
   "name": "python3"
  },
  "language_info": {
   "codemirror_mode": {
    "name": "ipython",
    "version": 3
   },
   "file_extension": ".py",
   "mimetype": "text/x-python",
   "name": "python",
   "nbconvert_exporter": "python",
   "pygments_lexer": "ipython3",
   "version": "3.7.4"
  },
  "orig_nbformat": 4,
  "vscode": {
   "interpreter": {
    "hash": "ad2bdc8ecc057115af97d19610ffacc2b4e99fae6737bb82f5d7fb13d2f2c186"
   }
  }
 },
 "nbformat": 4,
 "nbformat_minor": 2
}
