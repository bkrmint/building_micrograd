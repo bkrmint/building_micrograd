{
 "cells": [
  {
   "cell_type": "code",
   "execution_count": 19,
   "metadata": {},
   "outputs": [],
   "source": [
    "import torch\n",
    "import torch.nn.functional as F\n",
    "import matplotlib.pyplot as plt\n",
    "%matplotlib inline\n",
    "# Without this line matlib will crash \n",
    "import os\n",
    "os.environ['KMP_DUPLICATE_LIB_OK'] = 'True'"
   ]
  },
  {
   "cell_type": "code",
   "execution_count": 20,
   "metadata": {},
   "outputs": [
    {
     "data": {
      "text/plain": [
       "['emma',\n",
       " 'olivia',\n",
       " 'ava',\n",
       " 'isabella',\n",
       " 'sophia',\n",
       " 'charlotte',\n",
       " 'mia',\n",
       " 'amelia',\n",
       " 'harper',\n",
       " 'evelyn']"
      ]
     },
     "execution_count": 20,
     "metadata": {},
     "output_type": "execute_result"
    }
   ],
   "source": [
    "words = open('names.txt', 'r').read().splitlines()\n",
    "words[:10]"
   ]
  },
  {
   "cell_type": "code",
   "execution_count": 21,
   "metadata": {},
   "outputs": [
    {
     "data": {
      "text/plain": [
       "32033"
      ]
     },
     "execution_count": 21,
     "metadata": {},
     "output_type": "execute_result"
    }
   ],
   "source": [
    "len(words)"
   ]
  },
  {
   "cell_type": "code",
   "execution_count": 22,
   "metadata": {},
   "outputs": [
    {
     "name": "stdout",
     "output_type": "stream",
     "text": [
      "{1: 'a', 2: 'b', 3: 'c', 4: 'd', 5: 'e', 6: 'f', 7: 'g', 8: 'h', 9: 'i', 10: 'j', 11: 'k', 12: 'l', 13: 'm', 14: 'n', 15: 'o', 16: 'p', 17: 'q', 18: 'r', 19: 's', 20: 't', 21: 'u', 22: 'v', 23: 'w', 24: 'x', 25: 'y', 26: 'z', 0: '.'}\n",
      "27\n"
     ]
    }
   ],
   "source": [
    "# build the vocabulary of characters and mappings to/from integers\n",
    "chars = sorted(list(set(''.join(words))))\n",
    "stoi = {c: i+1 for i , c in enumerate(chars)}\n",
    "stoi ['.'] = 0\n",
    "itos = {i: c for c , i in stoi.items()}\n",
    "vocab_size = len(itos)\n",
    "print (itos)\n",
    "print (vocab_size)"
   ]
  },
  {
   "cell_type": "code",
   "execution_count": 23,
   "metadata": {},
   "outputs": [
    {
     "name": "stdout",
     "output_type": "stream",
     "text": [
      "torch.Size([182625, 3]) torch.Size([182625])\n",
      "torch.Size([22655, 3]) torch.Size([22655])\n",
      "torch.Size([22866, 3]) torch.Size([22866])\n"
     ]
    }
   ],
   "source": [
    "# build the dataset for training, validation and test\n",
    "block_size = 3 # trigram model\n",
    "\n",
    "def build_dataset(words):\n",
    "    block_size = 3 \n",
    "    X, Y = [], []\n",
    "    for w in words: \n",
    "        context = [0] * block_size # context window [0, 0, 0]\n",
    "        for ch in w + '.': \n",
    "            ix = stoi[ch]\n",
    "            X.append(context)\n",
    "            Y.append(ix)\n",
    "            context = context[1:] + [ix] # add new char in the end and removes the first one\n",
    "\n",
    "    X = torch.tensor(X) # X has trigram contexts\n",
    "    Y = torch.tensor(Y) # Y has index of each character that the trigram corresponds to. For example for first letter e, trigram is [0, 0, 0] and Y[0] = 5; for second letter e, trigram is [0, 0, 5] and Y[1] = 5;\n",
    "    print (X.shape, Y.shape)\n",
    "    return X, Y\n",
    "\n",
    "import random\n",
    "random.seed(42)\n",
    "random.shuffle(words)\n",
    "n1 = int(0.8 * len(words))\n",
    "n2 = int(0.9 * len(words))\n",
    " \n",
    "Xtr, Ytr = build_dataset(words[:n1]) # 80% of the words for training\n",
    "Xdev, Ydev = build_dataset(words[n1:n2]) # 10% \n",
    "Xts, Yts = build_dataset(words[n2:]) # 10%"
   ]
  },
  {
   "cell_type": "code",
   "execution_count": 113,
   "metadata": {},
   "outputs": [
    {
     "name": "stdout",
     "output_type": "stream",
     "text": [
      "12297\n"
     ]
    }
   ],
   "source": [
    "# MLP revisited\n",
    "n_embd = 10 # embedding size\n",
    "n_hidden = 200 # hidden layer size\n",
    "\n",
    "g = torch.Generator().manual_seed(2147483627)  \n",
    "C = torch.randn(vocab_size, n_embd, generator=g)  # 27 x 10\n",
    "#W1 = torch.randn(n_embd * block_size, n_hidden , generator=g) * 0.2 # 30 x 200\n",
    "W1 = torch.randn(n_embd * block_size, n_hidden , generator=g) * (5/3)/((n_embd * block_size)**0.5) # 30 x 200 # kaiming initialization 0.3\n",
    "# b1 = torch.randn(n_hidden, generator=g) * 0.01 # 200 x 1\n",
    "# bnbias will take care of the bias. b1 does not do anything. Its grad will be zero... \n",
    "W2 = torch.randn(n_hidden, vocab_size, generator=g) * 0.01 # 200 x 27\n",
    "b2 = torch.randn(vocab_size, generator=g) * 0 # 27 x 1\n",
    "\n",
    "bngain = torch.ones(1, n_hidden)  # 1 x 200\n",
    "bnbias = torch.zeros(1, n_hidden) # 1 x 200\n",
    "bnmean_running = torch.zeros(1, n_hidden) # 1 x 200 \n",
    "bnstd_running = torch.ones(1, n_hidden) # 1 x 200\n",
    "# mean = 0 and std = 1 for the first batch, that is what we initialize in the W1 and b1. \n",
    "# we are not going to in gradient descent. We just calculating in parallel. \n",
    "\n",
    "paramaters = [C, W1, b1, W2, b2, bngain, bnbias] # Need to include bngain and bnbias in the list of paramaters, since it will be used in the backpropagation\n",
    "print ( sum(p.nelement() for p in paramaters) )\n",
    "for p in paramaters:\n",
    "    p.requires_grad = True"
   ]
  },
  {
   "cell_type": "code",
   "execution_count": null,
   "metadata": {},
   "outputs": [],
   "source": [
    "# Fixing the initial loss.. \n",
    "# 0/ 200000 loss: 32.5641 this is more than -log(1/27) = 3.2958, if it where a normal distribution. So the initial loss is not correct. Why? logits (log counts) take on extreme values. \n",
    "#logits[0]\n",
    "#tensor([-23.2061,  -3.8688,  -0.4207,   1.7597,  -4.6089,   7.2212,  -6.2135,\n",
    "      #     3.6278,   2.4491, -10.6197, -14.1598,  28.7946,  14.2200,   2.7358,\n",
    "      #   -12.3023, -22.9448,   4.5978,   1.7225,  11.7055, -16.3703,  30.5306,\n",
    "      #     5.0593,  -3.7374,  14.3168,  13.8984,   5.0136,  21.6552],\n",
    "      #  grad_fn=<SelectBackward0>)\n",
    "\n",
    "# We need to find a way to me the logits come more closer to zero\n",
    "# 1. Make b2 = 0 we dont want add bias because want to make the logits closer to zero\n",
    "# 2. Make W2 smaller. We will multibility by 0.1 to make it smaller\n",
    "# 3. Let run the first iteration and see what happens\n",
    "# 4. We brought down to 0/ 200000 loss: 4.5024 that is better. But it is still more than -log(1/27) = 3.2958\n",
    "# 5. Let make W2 smaller by multibility by 0.01\n",
    "# 6. We brought down to 0/ 200000 loss: 3.3323 that is better. But it is still more than -log(1/27) = 3.2958\n",
    "# 7. Why not make W2 = 0. That is dangerous. We dont want to make W2 = 0 because we want to learn something.So keep some values. And it adds some entropy to the model that is important for symmetry breaking.\n",
    "# 8. logits[0] are coming close to zero\n",
    "# tensor([-0.2174, -0.0545,  0.0014,  0.0135, -0.0422,  0.0823, -0.0525,  0.0261,\n",
    "#          0.0311, -0.1094, -0.1511,  0.2916,  0.1453,  0.0112, -0.1249, -0.2126,\n",
    "#          0.0440,  0.0200,  0.1122, -0.1608,  0.3154,  0.0591, -0.0397,  0.1331,\n",
    "#          0.1389,  0.0470,  0.2089], grad_fn=<SelectBackward0>)\n",
    "# 9. Now let us run the optimization for 200000 iterations\n",
    "# 10. We brought down the loss to 190000/ 200000 loss: 1.8573. \n",
    "# 11. train loss: 2.0644 , val loss: 2.1291\n",
    "# 12. What we did in all the above steps: is to make the hockey stick to go away, and make the model more productive from get go. "
   ]
  },
  {
   "cell_type": "code",
   "execution_count": null,
   "metadata": {},
   "outputs": [],
   "source": [
    "# Fixing tanh\n",
    "# Even though we fixed initial loss, there other problems lurking in the model.\n",
    "# 1. logits are okay now. \n",
    "# 2. Problem is with the hidden layer. h. \n",
    "# tensor([[ 1.0000,  0.9999, -0.0819,  ...,  0.9990,  0.9996, -1.0000],\n",
    "#         [-0.8221,  1.0000, -0.9955,  ...,  0.1631, -0.3367,  0.9880],\n",
    "#         [-0.8867, -0.7361, -1.0000,  ...,  0.9024,  1.0000,  0.8829],\n",
    "#         ...,\n",
    "#         [-0.9930,  0.7010,  0.9981,  ..., -0.9998,  0.6440, -0.6685],\n",
    "#         [ 0.9999,  0.8276,  0.9998,  ..., -0.9989,  1.0000, -0.9991],\n",
    "#         [ 0.7049,  1.0000, -0.9994,  ...,  1.0000,  0.9994, -0.9886]],\n",
    "#        grad_fn=<TanhBackward0>)\n",
    "# Many of them are 1 or -1 are close to it. That is not good. \n",
    "# 3. to visualize it, we will plot the histogram of the hidden layer.\n",
    "# plt.hist(h.view(-1).tolist(), 50) and plt.hist(hpreact.view(-1).tolist(), 50). You will see most of the values that comes out of tanh  are close to 1 or -1. and preact hae wide distribution. \n",
    "# # If you look at backward fn in micrograd def _backward():\n",
    "#             self.grad += (1 - t**2) * out.grad\n",
    "# you will see that the gradient is 1 - t**2. So if t is close to 1 or -1, the gradient is close to 0. So the gradient is not flowing back to the input. It cuts off the gradient.\n",
    "# 4. So we need to make sure that there are no dead neurons. We did that. there is no white column in the histogram.\n",
    "# 5. We compared various activation functions. tanh, ReLU, sigmoid, leaky ReLU. \n",
    "# 6. So what should we do? to make sure that backpropagation works well. We need to bring the values of hpreact closer to zero.\n",
    "# 7. We will do that by multibility W1 by 0.1 and b by 0.0 to keep entropy.\n",
    "# 8. Run the optimization for 1 iteration. Look at the histogram. It is h has better distribution close normal distribution.\n",
    "# 9. hpreact has values are lose to zero.\n",
    "# 10. Figure shows all neurons are active. Shows full back. backpropagation is working well.\n",
    "# 11. It was all black. So we changed W1 from 0.1 to 0.2 that allowed some neurons to take extreme values.\n",
    "# 12. We will run the optimization for 200000 iterations\n",
    "# 13. train loss: 2.0353 , val loss: 2.1040 this is better than before.\n",
    "# train loss: 2.0644 , val loss: 2.1291. We are doing productive training... \n"
   ]
  },
  {
   "cell_type": "code",
   "execution_count": null,
   "metadata": {},
   "outputs": [],
   "source": [
    "# Since the model is single layer... it is forgiving, if it is deep than activation, gradient vanishing, exploding, etc. are big problems."
   ]
  },
  {
   "cell_type": "code",
   "execution_count": 77,
   "metadata": {},
   "outputs": [
    {
     "data": {
      "text/plain": [
       "0.3042903097250923"
      ]
     },
     "execution_count": 77,
     "metadata": {},
     "output_type": "execute_result"
    }
   ],
   "source": [
    "(5/3) / (30**0.5)"
   ]
  },
  {
   "cell_type": "code",
   "execution_count": 76,
   "metadata": {},
   "outputs": [
    {
     "data": {
      "text/plain": [
       "tensor(0.1998)"
      ]
     },
     "execution_count": 76,
     "metadata": {},
     "output_type": "execute_result"
    }
   ],
   "source": [
    "# See the trick \n",
    "(torch.randn(10000) * 0.2 ).std() # 1.0 If we multiply by 0.2, the std will be 0.2. That is why we multiplied by 0.2 in the above code."
   ]
  },
  {
   "cell_type": "code",
   "execution_count": null,
   "metadata": {},
   "outputs": [],
   "source": [
    "# If we train with kaiming initialization, \n",
    "# we got: \n",
    "# train loss: 2.0374, val loss: 2.1080\n",
    "# previous run's: train loss: 2.0353 , val loss: 2.1040"
   ]
  },
  {
   "cell_type": "code",
   "execution_count": null,
   "metadata": {},
   "outputs": [],
   "source": [
    "# Batch Normalization\n",
    "# Insight: What we did in the above step is to normalize the input to the hidden layer W1*emb + b and normalize the hidden layer output (tanh). Now insight is: why dont we normalize the preact directly instead of doing it before and after the activation function.Hidden preactivation is perfectly differentiable operation. \n",
    "# 1. We will add normalization to the hidden layer preactivation by\n",
    "# hpreact = (hpreact - hpreact.mean(0, keepdim=True)) / hpreact.std(0, keepdim=True) # 32 x 200 # batch normalization\n",
    "# This will normalize the 32 randomly selected mini batch.\n",
    "# Mean and variance are perfectly diffrentiable operations. So we can backpropagate through them.\n",
    "# But we dont want normalize each iteration. We want the backpropagation to move around and tell us the best fit. \n",
    "# They way we do that as in the paper is: we scale and shift. \n",
    "# 2. We will add two parameters to the model: gamma (gain) and beta (bias). we multiply the gain with the normalized value and add the bias to oscilate. \n",
    "# 3. Output we got are: \n",
    "# train loss: 2.0374, val loss: 2.1080\n",
    "# All the metrics are looking good. \n",
    "# What this model achieves is the it will get jitters for h and logits.. This has the effect of regularizing the model. This has the effect of data augmentation. This make it hard for the neural network to overfit. This give a stable effect.\n",
    "# 4. Since batch is tightly coupled with the model, how will you get forward pass and get output for single example. \n",
    "# 5. Calibrate the batch norm at the end of the training.\n",
    "# 6. Output we got are:\n",
    "# train loss: 2.0665, val loss: 2.1093"
   ]
  },
  {
   "cell_type": "code",
   "execution_count": 94,
   "metadata": {},
   "outputs": [
    {
     "data": {
      "text/plain": [
       "(tensor([[ 0.6578,  1.2550, -0.7806, -0.5917,  1.1198, -0.6178,  0.1274, -0.1517,\n",
       "          -0.2204, -0.1968,  0.3684,  0.0682, -0.1346,  0.2862, -0.7879,  1.1064,\n",
       "           0.9895,  0.3939,  0.1106,  1.2633, -0.3504,  0.4641,  0.3359,  0.0757,\n",
       "          -0.6579,  0.1954, -0.5213, -0.4316,  0.0313,  0.2505,  0.8879, -0.9476,\n",
       "           0.5737,  0.1918,  1.3271, -0.0361, -1.4326, -0.0875,  0.2428,  0.5508,\n",
       "           0.2689, -0.2356,  0.9191, -1.8406,  0.5418, -1.1816,  0.7952, -1.0003,\n",
       "           0.3177,  1.5513, -0.1640,  0.1339, -0.2800,  0.6653,  0.2684,  0.5176,\n",
       "          -0.5770,  0.3680,  0.9758,  0.0044,  0.4807, -0.4285,  1.6421, -0.4228,\n",
       "          -0.0635,  0.8150, -0.3426,  0.0509,  0.7196, -0.9023,  1.8548,  1.0240,\n",
       "           0.2913,  0.9031, -0.1785,  0.2907,  0.3964,  0.7722,  0.2699,  0.1861,\n",
       "          -0.1639,  0.0644,  0.1476,  0.1433, -0.6651,  0.4395, -0.3034,  0.3414,\n",
       "          -1.7872,  1.9395, -0.9825,  0.2033, -0.9127,  0.4457, -1.0434, -0.2690,\n",
       "          -0.5816, -0.7934, -0.4906, -0.9419,  0.7161,  0.3407, -0.3239,  0.9035,\n",
       "          -0.3191,  0.3909,  0.4772,  0.2677,  1.2632, -0.5060,  0.5023,  0.9426,\n",
       "          -0.5115, -1.0387,  0.7555, -0.7399, -0.5170,  0.4521, -0.8227,  0.0485,\n",
       "           0.6241,  0.4442,  0.0843,  0.4536, -1.5911,  1.1189, -0.0796, -1.5472,\n",
       "          -2.0946,  0.4444,  0.6116,  1.3790,  1.0009, -0.7309, -1.5376, -0.3006,\n",
       "          -1.7828, -0.4592,  0.6754, -0.7053, -0.5042, -1.3065,  0.8370,  0.2596,\n",
       "           0.0645, -1.3647, -0.8009,  1.3061,  0.0963,  0.2656,  0.2179, -0.0395,\n",
       "          -0.5243, -0.4335,  1.6627,  0.1885, -0.0809,  0.8834,  0.2354,  1.5405,\n",
       "          -0.3101,  1.0416, -0.3570, -2.0566, -0.5760, -0.9908, -0.3120, -0.6243,\n",
       "          -0.7783,  0.3370, -1.2412,  1.8816, -0.4688,  0.0868, -0.0166, -0.9526,\n",
       "           0.0087,  0.1458, -0.5996,  0.0285, -0.8781,  0.3002,  0.6748, -0.5927,\n",
       "          -1.1518,  0.4701, -1.5024,  1.8477, -0.2728, -0.5050, -1.2485, -2.0287,\n",
       "           0.1943,  0.2103,  0.5115, -0.2413,  0.0348, -0.5672,  1.0505, -1.5894]],\n",
       "        grad_fn=<MeanBackward1>),)"
      ]
     },
     "execution_count": 94,
     "metadata": {},
     "output_type": "execute_result"
    }
   ],
   "source": [
    "hpreact.mean(0, keepdim=True),  # 32 X 200 -> 1 X 200"
   ]
  },
  {
   "cell_type": "code",
   "execution_count": 97,
   "metadata": {},
   "outputs": [
    {
     "data": {
      "text/plain": [
       "tensor([[2.3275, 2.4576, 2.2898, 1.6678, 2.4038, 1.7706, 3.2021, 1.7339, 2.3481,\n",
       "         2.7089, 2.2896, 1.9002, 2.1385, 2.6063, 2.2721, 2.8138, 2.3216, 2.1901,\n",
       "         1.9966, 1.8066, 1.8553, 1.6158, 2.5994, 1.4786, 2.6910, 2.3970, 2.3360,\n",
       "         2.7009, 1.6970, 2.2795, 2.0691, 2.1796, 3.2932, 1.8225, 3.1972, 2.2520,\n",
       "         2.4886, 1.4223, 1.8708, 1.9766, 2.1890, 1.5974, 1.8876, 3.0098, 2.1904,\n",
       "         3.0982, 2.2616, 2.2919, 1.8908, 2.4179, 1.7065, 2.5431, 1.8178, 2.8117,\n",
       "         1.5599, 1.5987, 2.0085, 2.5687, 1.7702, 1.6156, 2.0537, 1.4734, 2.1418,\n",
       "         1.5956, 1.9237, 1.5963, 2.3075, 1.9264, 1.9918, 2.4590, 2.4193, 1.8277,\n",
       "         2.3608, 2.4533, 2.1622, 1.1588, 1.6999, 2.5571, 1.7863, 1.6960, 1.8415,\n",
       "         2.0533, 1.2571, 1.9124, 1.9476, 1.5174, 1.8462, 1.5140, 1.9614, 2.3661,\n",
       "         1.6689, 1.7167, 2.0141, 2.3124, 2.0050, 1.7216, 1.8104, 2.3214, 2.4396,\n",
       "         1.5792, 1.4212, 2.4304, 2.1770, 1.8031, 0.9853, 2.1827, 1.4576, 1.3158,\n",
       "         2.4573, 2.2986, 1.7137, 1.9197, 1.7664, 2.0711, 1.8640, 2.2591, 2.4065,\n",
       "         2.3543, 2.2172, 2.1996, 2.3130, 2.0244, 1.9678, 2.3491, 2.5851, 2.5362,\n",
       "         1.5626, 2.2660, 2.3516, 1.2461, 1.8067, 2.4866, 1.7498, 2.3620, 2.1028,\n",
       "         1.5559, 2.7315, 1.5086, 1.7232, 2.5971, 2.0633, 2.2267, 2.4093, 1.7527,\n",
       "         1.6796, 1.8803, 1.9310, 2.4590, 2.0698, 1.7256, 2.0873, 2.2763, 3.4801,\n",
       "         1.9369, 2.6491, 2.1688, 1.2330, 2.2524, 2.0722, 2.9515, 2.5834, 2.6323,\n",
       "         2.0888, 2.3882, 1.8572, 1.4730, 2.4258, 1.7939, 2.3452, 2.4597, 2.1405,\n",
       "         2.1795, 2.3428, 1.4853, 2.3555, 1.6438, 1.3832, 1.5933, 2.1429, 1.7516,\n",
       "         2.7448, 2.0682, 1.8479, 2.2934, 1.7611, 1.4643, 2.3951, 2.6019, 2.6751,\n",
       "         2.0172, 1.9624, 2.8984, 2.4150, 2.7244, 2.2932, 2.0720, 1.6745, 2.0797,\n",
       "         2.2215, 1.8143]], grad_fn=<StdBackward0>)"
      ]
     },
     "execution_count": 97,
     "metadata": {},
     "output_type": "execute_result"
    }
   ],
   "source": [
    "hpreact.std(0, keepdim=True)"
   ]
  },
  {
   "cell_type": "code",
   "execution_count": 114,
   "metadata": {},
   "outputs": [
    {
     "name": "stdout",
     "output_type": "stream",
     "text": [
      "tensor(0.0127) tensor(0.9909)\n",
      "tensor(-0.0020) tensor(0.9743)\n"
     ]
    },
    {
     "data": {
      "image/png": "[encoded data removed]",
      "text/plain": [
       "<Figure size 2000x500 with 2 Axes>"
      ]
     },
     "metadata": {},
     "output_type": "display_data"
    }
   ],
   "source": [
    "# Calculating the initial scale. How we know what initial values that should be multiplied to W1 and b to make the model work well instead of guessing and checking.\n",
    "# 1. \n",
    "x = torch.randn(1000, 10) # Gaussian with mean 0 and variance 1\n",
    "w = torch.randn(10, 200) / 10**0.5\n",
    "# The answer is to divide W by the square root of the number of feature inputs. fein = 10. So we divide by 10.\n",
    "# * 0.2 # 5 is expanding... 0.2 is squashing to variance of 1\n",
    "y = x @ w \n",
    "# what will be distribution of y? As the plot below shows it is non-gaussian.tensor(-0.0043) tensor(3.2534). We are expanding the distribution. How to make it remain gaussian? We need to scale the distribution.\n",
    "print(x.mean(), x.std()) #tensor(-0.0166) tensor(1.0053)\n",
    "print(y.mean(), y.std()) #tensor(-0.0043) tensor(3.2534)\n",
    "plt.figure(figsize=(20, 5))\n",
    "plt.subplot(1, 2, 1)\n",
    "plt.hist(x.view(-1).tolist(), 50, density=True) ; # semicolon to suppress output\n",
    "plt.subplot(1, 2, 2)\n",
    "plt.hist(y.view(-1).tolist(), 50, density=True) ; # semicolon to suppress output"
   ]
  },
  {
   "cell_type": "code",
   "execution_count": 115,
   "metadata": {},
   "outputs": [
    {
     "name": "stdout",
     "output_type": "stream",
     "text": [
      "      0/ 200000 loss: 3.3239\n",
      "  10000/ 200000 loss: 2.4986\n",
      "  20000/ 200000 loss: 2.5710\n",
      "  30000/ 200000 loss: 2.5897\n",
      "  40000/ 200000 loss: 2.2763\n",
      "  50000/ 200000 loss: 2.3182\n",
      "  60000/ 200000 loss: 2.2710\n",
      "  70000/ 200000 loss: 2.7623\n",
      "  80000/ 200000 loss: 1.7537\n",
      "  90000/ 200000 loss: 2.1749\n",
      " 100000/ 200000 loss: 2.4135\n",
      " 110000/ 200000 loss: 2.2611\n",
      " 120000/ 200000 loss: 2.0947\n",
      " 130000/ 200000 loss: 2.1285\n",
      " 140000/ 200000 loss: 2.1235\n",
      " 150000/ 200000 loss: 2.0129\n",
      " 160000/ 200000 loss: 1.7325\n",
      " 170000/ 200000 loss: 2.0214\n",
      " 180000/ 200000 loss: 1.7195\n",
      " 190000/ 200000 loss: 1.9823\n"
     ]
    }
   ],
   "source": [
    "# same optimization as last time \n",
    "max_steps = 200000\n",
    "batch_size = 32\n",
    "lossi = []\n",
    "\n",
    "for i in range(max_steps): \n",
    "\n",
    "  # minibatch construct \n",
    "  ix = torch.randint(0, Xtr.shape[0], (batch_size,), generator=g) # 32 random indices\n",
    "  Xb, Yb = Xtr[ix], Ytr[ix] # 32 x 3, 32 x 1\n",
    "\n",
    "  # forward pass\n",
    "  emb = C[Xb] # 32 x 3 x 10\n",
    "  embcat = emb.view(emb.shape[0], -1) # 32 x 30\n",
    "  # Linear Layer\n",
    "  hpreact = embcat @ W1 # + b1 # 32 x 30 @ 30 x 200 + 200 = 32 x 200 # hidden layer pre-activation\n",
    "  # BatchNorm Layer\n",
    "  #---------------------------------------------------\n",
    "  bnmeani = hpreact.mean(0, keepdim=True) # 32 x 200 -> 1 x 200\n",
    "  bnstdi = hpreact.std(0, keepdim=True) # 32 x 200 -> 1 x 200\n",
    "  hpreact = bngain * (hpreact - bnmeani) / bnstdi  + bnbias # 32 x 200 # batch normalization\n",
    "  with torch.no_grad(): # not tracking gradients\n",
    "    bnmean_running = 0.999 * bnmean_running + 0.001 * bnmeani # 1 x 200\n",
    "    bnstd_running = 0.999 * bnstd_running + 0.001 * bnstdi # 1 x 200\n",
    "  #---------------------------------------------------\n",
    "  # Non-linearity\n",
    "  h = torch.tanh(hpreact) # 32 x 200 # hidden layer activation\n",
    "  logits = h @ W2 + b2 # 32 x 200 @ 200 x 27 + 27 = 32 x 27 # output layer \n",
    "  loss = F.cross_entropy(logits, Yb)  # 32 x 27, 32 x 1\n",
    "\n",
    "  # backward pass\n",
    "  for p in paramaters:\n",
    "    p.grad = None # setting the gradients to zero\n",
    "  loss.backward() # backward pass\n",
    "\n",
    "  # updating learning rate\n",
    "  lr = 0.1 if i < 100000 else 0.01 # step learning rate decay\n",
    "  for p in paramaters:\n",
    "    p.data += -lr * p.grad # nudge each node / parameters \n",
    "\n",
    "  # track stats\n",
    "  if i % 10000 == 0:\n",
    "    print ( f'{i:7d}/{max_steps:7d} loss: {loss.item():.4f}' )\n",
    "  lossi.append(loss.log10().item()) \n",
    "\n"
   ]
  },
  {
   "cell_type": "code",
   "execution_count": 106,
   "metadata": {},
   "outputs": [
    {
     "data": {
      "image/png": "[encoded data removed]",
      "text/plain": [
       "<Figure size 640x480 with 1 Axes>"
      ]
     },
     "metadata": {},
     "output_type": "display_data"
    }
   ],
   "source": [
    "plt.hist(h.view(-1).tolist(), 50) ; # 50 bins and ; to supress the output"
   ]
  },
  {
   "cell_type": "code",
   "execution_count": 107,
   "metadata": {},
   "outputs": [
    {
     "data": {
      "image/png": "[encoded data removed]",
      "text/plain": [
       "<Figure size 640x480 with 1 Axes>"
      ]
     },
     "metadata": {},
     "output_type": "display_data"
    }
   ],
   "source": [
    "plt.hist(hpreact.view(-1).tolist(), 50) ;"
   ]
  },
  {
   "cell_type": "code",
   "execution_count": 108,
   "metadata": {},
   "outputs": [
    {
     "data": {
      "image/png": "[encoded data removed]",
      "text/plain": [
       "<Figure size 2000x1000 with 1 Axes>"
      ]
     },
     "metadata": {},
     "output_type": "display_data"
    }
   ],
   "source": [
    "plt.figure(figsize=(20, 10))\n",
    "plt.imshow(h.abs() > 0.99, cmap='gray', interpolation='nearest');\n",
    "# If h.abs() > 0.99 then it is white. If there was complete white then that would be wrong. "
   ]
  },
  {
   "cell_type": "code",
   "execution_count": 63,
   "metadata": {},
   "outputs": [
    {
     "data": {
      "text/plain": [
       "tensor([ 2.6428,  3.5701, -2.5882,  0.8725, -0.3080,  2.6605, -3.6702, -4.1634,\n",
       "         3.9418,  2.6481, -2.0946, -1.6816,  1.3168, -1.6043, -0.0102,  2.2300,\n",
       "        -3.4651, -4.4198,  1.3965,  0.4444,  1.2122,  0.1932, -0.4532, -3.1948,\n",
       "        -1.2996,  4.2140,  2.1809], grad_fn=<SelectBackward0>)"
      ]
     },
     "execution_count": 63,
     "metadata": {},
     "output_type": "execute_result"
    }
   ],
   "source": [
    "logits[0]"
   ]
  },
  {
   "cell_type": "code",
   "execution_count": 109,
   "metadata": {},
   "outputs": [
    {
     "data": {
      "text/plain": [
       "[<matplotlib.lines.Line2D at 0x14f425a3488>]"
      ]
     },
     "execution_count": 109,
     "metadata": {},
     "output_type": "execute_result"
    },
    {
     "data": {
      "image/png": "[encoded data removed]",
      "text/plain": [
       "<Figure size 640x480 with 1 Axes>"
      ]
     },
     "metadata": {},
     "output_type": "display_data"
    }
   ],
   "source": [
    "plt.plot(lossi)"
   ]
  },
  {
   "cell_type": "code",
   "execution_count": 111,
   "metadata": {},
   "outputs": [],
   "source": [
    "# calibrate the batch norm at the end of the training\n",
    "# since we are doing bnmean_running and bnstd_running, we dont need the explicit calibration... \n",
    "\n",
    "with torch.no_grad():\n",
    "    # pass the training set through the model with no backword pass\n",
    "    emb = C[Xtr] # 32 x 3 x 10\n",
    "    embcat = emb.view(emb.shape[0], -1) # 32 x 30\n",
    "    hpreact = embcat @ W1 + b1 # 32 x 30 @ 30 x 200 + 200 = 32 x 200 # hidden layer pre-activation\n",
    "    # measure the mean and variance over the entire training set\n",
    "    bnmean = hpreact.mean(0, keepdim=True) # 1 x 200\n",
    "    bnstd = hpreact.std(0, keepdim=True) # 1 x 200"
   ]
  },
  {
   "cell_type": "code",
   "execution_count": 118,
   "metadata": {},
   "outputs": [
    {
     "data": {
      "text/plain": [
       "tensor([[2.3954, 1.7591, 2.4409, 2.0786, 2.5226, 2.3885, 2.2250, 2.3996, 2.1487,\n",
       "         2.3668, 2.2341, 2.3794, 2.3740, 2.3120, 2.3238, 2.6184, 2.1566, 1.7728,\n",
       "         2.3209, 2.6049, 1.9632, 2.1671, 2.0774, 2.0277, 2.0599, 2.4546, 2.3012,\n",
       "         2.1393, 2.6752, 1.9399, 2.0201, 2.1259, 1.9869, 2.3566, 2.1253, 2.1465,\n",
       "         2.2969, 2.1062, 2.0264, 2.1887, 2.2487, 2.0724, 1.9421, 2.2076, 2.2522,\n",
       "         3.0590, 2.0301, 2.1053, 1.9957, 2.2084, 2.3312, 2.3002, 1.9940, 2.2819,\n",
       "         1.9690, 1.9442, 1.6057, 2.7329, 1.9743, 2.2834, 2.0159, 2.1158, 1.6481,\n",
       "         2.5594, 1.9070, 1.8710, 2.0912, 1.8639, 2.1448, 2.4067, 2.0721, 2.1114,\n",
       "         2.2375, 2.5388, 2.2284, 1.7803, 2.3429, 2.2447, 2.4949, 2.1560, 2.0135,\n",
       "         1.7913, 2.1783, 2.4057, 2.1663, 2.0190, 2.0525, 2.0403, 1.9797, 1.9193,\n",
       "         1.7895, 2.4365, 2.3165, 2.1333, 1.9285, 1.8661, 2.0243, 2.3249, 2.3411,\n",
       "         2.2652, 2.2350, 2.5183, 2.3992, 2.0409, 2.1061, 2.3863, 2.2444, 2.3456,\n",
       "         1.9303, 2.3468, 2.3905, 1.6542, 2.3976, 2.1426, 2.0817, 1.9467, 2.1659,\n",
       "         2.2046, 1.9637, 2.0662, 2.0125, 2.2207, 2.3911, 1.4654, 2.1695, 2.8490,\n",
       "         1.8768, 2.0824, 2.2883, 2.0410, 2.4761, 1.9531, 2.1814, 2.3919, 1.9960,\n",
       "         2.2674, 2.3991, 2.0962, 1.8690, 2.1422, 1.9877, 1.7922, 2.3975, 2.1015,\n",
       "         2.2302, 2.4665, 2.3449, 1.9029, 2.0937, 2.1182, 1.8601, 2.5653, 2.1419,\n",
       "         2.7027, 2.4384, 2.0737, 2.2498, 2.3915, 2.2677, 2.0877, 2.7762, 2.4003,\n",
       "         2.2206, 1.9630, 1.9023, 2.0624, 2.0959, 2.2804, 2.1977, 2.4380, 2.7149,\n",
       "         2.3147, 2.4353, 2.1024, 1.6026, 2.1228, 1.8586, 1.8476, 2.7148, 2.2429,\n",
       "         2.4625, 2.2559, 1.9236, 2.2079, 2.0309, 1.9677, 2.2595, 1.9961, 2.3222,\n",
       "         2.0738, 2.0942, 2.7170, 2.2211, 2.3975, 2.1837, 2.1727, 2.3146, 1.8698,\n",
       "         2.2305, 2.3034]])"
      ]
     },
     "execution_count": 118,
     "metadata": {},
     "output_type": "execute_result"
    }
   ],
   "source": [
    "bnstd"
   ]
  },
  {
   "cell_type": "code",
   "execution_count": 119,
   "metadata": {},
   "outputs": [
    {
     "data": {
      "text/plain": [
       "tensor([[2.3747, 1.7416, 2.4145, 2.0594, 2.5063, 2.3676, 2.2050, 2.3954, 2.1307,\n",
       "         2.3522, 2.2096, 2.3552, 2.3515, 2.2934, 2.3048, 2.6109, 2.1292, 1.7582,\n",
       "         2.3016, 2.5866, 1.9509, 2.1460, 2.0547, 1.9808, 2.0316, 2.4383, 2.2805,\n",
       "         2.1182, 2.6467, 1.9224, 2.0127, 2.1100, 1.9614, 2.3433, 2.1026, 2.1182,\n",
       "         2.2806, 2.0814, 1.9966, 2.1809, 2.2221, 2.0608, 1.9239, 2.1902, 2.2378,\n",
       "         3.0359, 2.0089, 2.0779, 1.9726, 2.1854, 2.3223, 2.2792, 1.9790, 2.2496,\n",
       "         1.9520, 1.9273, 1.5821, 2.7146, 1.9551, 2.2582, 1.9975, 2.0975, 1.6346,\n",
       "         2.5256, 1.8789, 1.8558, 2.0746, 1.8498, 2.1162, 2.3838, 2.0538, 2.0763,\n",
       "         2.2143, 2.5288, 2.1950, 1.7655, 2.3381, 2.2201, 2.4662, 2.1341, 1.9931,\n",
       "         1.7785, 2.1568, 2.3824, 2.1470, 2.0088, 2.0307, 2.0290, 1.9591, 1.8944,\n",
       "         1.7637, 2.4028, 2.2940, 2.1167, 1.9150, 1.8394, 1.9988, 2.3080, 2.3233,\n",
       "         2.2416, 2.2023, 2.4898, 2.3758, 2.0168, 2.0920, 2.3608, 2.2242, 2.3199,\n",
       "         1.9084, 2.3274, 2.3733, 1.6459, 2.3739, 2.1206, 2.0586, 1.9313, 2.1339,\n",
       "         2.1813, 1.9469, 2.0367, 1.9921, 2.1920, 2.3719, 1.4430, 2.1404, 2.8486,\n",
       "         1.8595, 2.0591, 2.2583, 2.0186, 2.4630, 1.9285, 2.1657, 2.3805, 1.9719,\n",
       "         2.2297, 2.3688, 2.0804, 1.8571, 2.1235, 1.9711, 1.7724, 2.3840, 2.0787,\n",
       "         2.2056, 2.4374, 2.3339, 1.8862, 2.0648, 2.0947, 1.8326, 2.5460, 2.1154,\n",
       "         2.6799, 2.4145, 2.0564, 2.2326, 2.3807, 2.2502, 2.0684, 2.7499, 2.3713,\n",
       "         2.2003, 1.9459, 1.8724, 2.0454, 2.0719, 2.2661, 2.1736, 2.4036, 2.7094,\n",
       "         2.2979, 2.4179, 2.0783, 1.5868, 2.0996, 1.8364, 1.8338, 2.6905, 2.2359,\n",
       "         2.4320, 2.2342, 1.9125, 2.1952, 2.0214, 1.9516, 2.2395, 1.9656, 2.3044,\n",
       "         2.0594, 2.0743, 2.6818, 2.1927, 2.3817, 2.1522, 2.1530, 2.2823, 1.8542,\n",
       "         2.2195, 2.2836]])"
      ]
     },
     "execution_count": 119,
     "metadata": {},
     "output_type": "execute_result"
    }
   ],
   "source": [
    "bnstd_running"
   ]
  },
  {
   "cell_type": "code",
   "execution_count": 112,
   "metadata": {},
   "outputs": [
    {
     "name": "stdout",
     "output_type": "stream",
     "text": [
      "train loss: 2.0665\n",
      "val loss: 2.1093\n"
     ]
    }
   ],
   "source": [
    "@torch.no_grad() # no need to track gradients\n",
    "def split_loss (split): \n",
    "    x, y = {\n",
    "        'train': (Xtr, Ytr),\n",
    "        'val': (Xdev, Ydev),\n",
    "        'test': (Xts, Yts),\n",
    "    }[split]\n",
    "    emb = C[x] # (N, block_size, n_embd) \n",
    "    embcat = emb.view(emb.shape[0], -1) # (N, block_size * n_embd)\n",
    "    hpreact = embcat @ W1 + b1 # (N, n_hidden)\n",
    "    #hpreact = bngain * ((hpreact - hpreact.mean(0, keepdim=True)) / hpreact.std(0, keepdim=True))  + bnbias # 32 x 200 # batch normalization\n",
    "    hpreact = bngain * (hpreact - bnmean) / bnstd + bnbias # (N, n_hidden\n",
    "\n",
    "    h = torch.tanh(hpreact) # (N, n_hidden)\n",
    "    logits = h @ W2 + b2 # (N, vocab_size)\n",
    "    loss = F.cross_entropy(logits, y) # (N, vocab_size), (N,)\n",
    "    print (f'{split} loss: {loss.item():.4f}')\n",
    "\n",
    "split_loss('train')\n",
    "split_loss('val')\n"
   ]
  },
  {
   "cell_type": "code",
   "execution_count": 16,
   "metadata": {},
   "outputs": [
    {
     "data": {
      "text/plain": [
       "tensor([[[-1.0440, -1.1457, -0.4851,  0.4165,  0.0111,  0.3233, -0.7345,\n",
       "          -0.4008,  0.0065,  1.0427],\n",
       "         [-1.0440, -1.1457, -0.4851,  0.4165,  0.0111,  0.3233, -0.7345,\n",
       "          -0.4008,  0.0065,  1.0427],\n",
       "         [-1.0440, -1.1457, -0.4851,  0.4165,  0.0111,  0.3233, -0.7345,\n",
       "          -0.4008,  0.0065,  1.0427]]], grad_fn=<IndexBackward0>)"
      ]
     },
     "execution_count": 16,
     "metadata": {},
     "output_type": "execute_result"
    }
   ],
   "source": [
    "context = [0] * block_size # initialize will all '...' chars\n",
    "torch.tensor(context)\n",
    "emb = C[torch.tensor([context])] \n",
    "emb"
   ]
  },
  {
   "cell_type": "code",
   "execution_count": 17,
   "metadata": {},
   "outputs": [
    {
     "name": "stdout",
     "output_type": "stream",
     "text": [
      "carmah.\n",
      "ambril.\n",
      "khyim.\n",
      "shree.\n",
      "casplani.\n",
      "ejrah.\n",
      "bradherric.\n",
      "kaeli.\n",
      "nellara.\n",
      "chaiir.\n",
      "kaleigh.\n",
      "ham.\n",
      "join.\n",
      "quintin.\n",
      "lilea.\n",
      "jadiquinte.\n",
      "madiarisi.\n",
      "jace.\n",
      "pinsleigh.\n",
      "edi.\n"
     ]
    }
   ],
   "source": [
    "# how to sample from the model\n",
    "g = torch.Generator().manual_seed(2147483647 + 10)\n",
    "\n",
    "for _ in range(20):\n",
    "\n",
    "    out = []\n",
    "    context = [0] * block_size # initialize will all '...' chars\n",
    "    while True:\n",
    "        emb = C[torch.tensor([context])] # (1, block_size=3, n_embd) \n",
    "        h = torch.tanh(emb.view(1, -1) @ W1 + b1) # (1, block_size, n_embd) @ (n_embd*blocksize * n_hidden + (n_hidden, 1) = (1, 200)\n",
    "        logits = h @ W2 + b2 # (1, 200) @ (200, 27) + (27,) = (1, 27)\n",
    "        probs = F.softmax(logits, dim=1) # (1, 27)\n",
    "        ix = torch.multinomial(probs, num_samples=1, generator=g).item() # (1, 1)\n",
    "        context = context[1:] + [ix] # (3, ) + (1, ) = (3, )\n",
    "        out.append(ix)\n",
    "        if ix == 0:\n",
    "            break\n",
    "    \n",
    "    print(\"\".join(itos[i] for i in out))\n"
   ]
  },
  {
   "cell_type": "code",
   "execution_count": 18,
   "metadata": {},
   "outputs": [
    {
     "data": {
      "text/plain": [
       "tensor(4.6052)"
      ]
     },
     "execution_count": 18,
     "metadata": {},
     "output_type": "execute_result"
    }
   ],
   "source": [
    "-torch.tensor(1/100).log()"
   ]
  }
 ],
 "metadata": {
  "kernelspec": {
   "display_name": "base",
   "language": "python",
   "name": "python3"
  },
  "language_info": {
   "codemirror_mode": {
    "name": "ipython",
    "version": 3
   },
   "file_extension": ".py",
   "mimetype": "text/x-python",
   "name": "python",
   "nbconvert_exporter": "python",
   "pygments_lexer": "ipython3",
   "version": "3.7.4"
  },
  "orig_nbformat": 4,
  "vscode": {
   "interpreter": {
    "hash": "ad2bdc8ecc057115af97d19610ffacc2b4e99fae6737bb82f5d7fb13d2f2c186"
   }
  }
 },
 "nbformat": 4,
 "nbformat_minor": 2
}
